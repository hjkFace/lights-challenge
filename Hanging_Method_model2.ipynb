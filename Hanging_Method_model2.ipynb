{
 "cells": [
  {
   "cell_type": "code",
   "execution_count": 1,
   "metadata": {},
   "outputs": [
    {
     "name": "stderr",
     "output_type": "stream",
     "text": [
      "Using TensorFlow backend.\n"
     ]
    }
   ],
   "source": [
    "from PIL import Image\n",
    "import pandas as pd\n",
    "import numpy as np\n",
    "import matplotlib.pyplot as plt\n",
    "\n",
    "seed=3\n",
    "np.random.seed(seed)\n",
    "\n",
    "from keras.layers import Input, Dense\n",
    "from keras.models import Model\n",
    "\n",
    "from keras.models import Sequential\n",
    "from keras.layers import Conv2D, MaxPooling2D\n",
    "from keras.layers import Activation, Dropout, Flatten, Concatenate, concatenate\n",
    "from keras.utils import to_categorical"
   ]
  },
  {
   "cell_type": "code",
   "execution_count": 2,
   "metadata": {
    "collapsed": true
   },
   "outputs": [],
   "source": [
    "labels_df = pd.read_csv('product_attributes_updated.csv', encoding='utf-8', \n",
    "                    dialect='excel', lineterminator='\\n')"
   ]
  },
  {
   "cell_type": "code",
   "execution_count": 3,
   "metadata": {},
   "outputs": [
    {
     "data": {
      "image/png": "[encoded data removed]",
      "text/plain": [
       "<matplotlib.figure.Figure at 0x1b9e2cf13c8>"
      ]
     },
     "metadata": {},
     "output_type": "display_data"
    },
    {
     "data": {
      "image/png": "[encoded data removed]",
      "text/plain": [
       "<matplotlib.figure.Figure at 0x1b9e2529128>"
      ]
     },
     "metadata": {},
     "output_type": "display_data"
    }
   ],
   "source": [
    "def delete_rare_records(treshold,column_name):\n",
    "    global labels_df\n",
    "    e = labels_df[column_name].value_counts()\n",
    "    return labels_df[labels_df[column_name].isin(e[e>treshold].index)]\n",
    "cleaned_labels_df=delete_rare_records(treshold=300,column_name='Hanging Method')\n",
    "cleaned_labels_df['Hanging Method'].value_counts().plot(kind=\"bar\")\n",
    "plt.show()\n",
    "labels_df['Hanging Method'].value_counts().plot(kind=\"bar\")\n",
    "plt.show()"
   ]
  },
  {
   "cell_type": "code",
   "execution_count": 4,
   "metadata": {},
   "outputs": [
    {
     "data": {
      "text/plain": [
       "34336"
      ]
     },
     "execution_count": 4,
     "metadata": {},
     "output_type": "execute_result"
    }
   ],
   "source": [
    "len(labels_df)"
   ]
  },
  {
   "cell_type": "code",
   "execution_count": 5,
   "metadata": {
    "scrolled": false
   },
   "outputs": [
    {
     "data": {
      "text/plain": [
       "12417"
      ]
     },
     "execution_count": 5,
     "metadata": {},
     "output_type": "execute_result"
    }
   ],
   "source": [
    "len(cleaned_labels_df)"
   ]
  },
  {
   "cell_type": "code",
   "execution_count": 6,
   "metadata": {},
   "outputs": [
    {
     "data": {
      "text/plain": [
       "True"
      ]
     },
     "execution_count": 6,
     "metadata": {},
     "output_type": "execute_result"
    }
   ],
   "source": [
    "key_words=['Chain','Stem','Cord','Cable','Combination','Wall','Sconce','Lamp']\n",
    "dummy=[0]*(len(key_words))\n",
    "len(dummy)==len(key_words)"
   ]
  },
  {
   "cell_type": "code",
   "execution_count": 7,
   "metadata": {
    "collapsed": true
   },
   "outputs": [],
   "source": [
    " def image2np_array( infilename ) :\n",
    "    img = Image.open( infilename )\n",
    "    img.load()\n",
    "    data = np.asarray( img, dtype=\"int32\" )\n",
    "    return data\n",
    "\n",
    "x_train_list=[]\n",
    "y_train_list=[]\n",
    "\n",
    "found_key_words=[]\n",
    "\n",
    "one_hot=pd.get_dummies(labels_df['Hanging Method'])\n",
    "\n",
    "for row in labels_df.itertuples():\n",
    "    if pd.notnull(row[11]):\n",
    "        try:\n",
    "            img = image2np_array('..\\\\ml_150x150_m\\\\'+row[1]+'.jpg').reshape(150,150,1)\n",
    "        except IOError:\n",
    "            continue\n",
    "        dummy=[0]*(len(key_words))\n",
    "        for x in key_words:\n",
    "            try:\n",
    "                if x in row[8].split(): \n",
    "                    dummy[key_words.index(x)]=1\n",
    "            except AttributeError:\n",
    "                continue\n",
    "        found_key_words.append(dummy)\n",
    "        x_train_list.append(img)\n",
    "        y_train_list.append(one_hot.loc[row[0],:].values)"
   ]
  },
  {
   "cell_type": "code",
   "execution_count": 8,
   "metadata": {
    "collapsed": true
   },
   "outputs": [],
   "source": [
    "x_train=np.array(x_train_list)\n",
    "found_key_words=np.array(found_key_words)\n",
    "y_train=np.array(y_train_list)"
   ]
  },
  {
   "cell_type": "code",
   "execution_count": 9,
   "metadata": {},
   "outputs": [
    {
     "data": {
      "text/plain": [
       "(12570, 5)"
      ]
     },
     "execution_count": 9,
     "metadata": {},
     "output_type": "execute_result"
    }
   ],
   "source": [
    "y_train.shape"
   ]
  },
  {
   "cell_type": "code",
   "execution_count": 10,
   "metadata": {
    "collapsed": true
   },
   "outputs": [
    {
     "name": "stdout",
     "output_type": "stream",
     "text": [
      "____________________________________________________________________________________________________\n",
      "Layer (type)                     Output Shape          Param #     Connected to                     \n",
      "====================================================================================================\n",
      "input_1 (InputLayer)             (None, 150, 150, 1)   0                                            \n",
      "____________________________________________________________________________________________________\n",
      "conv2d_1 (Conv2D)                (None, 146, 146, 32)  832         input_1[0][0]                    \n",
      "____________________________________________________________________________________________________\n",
      "conv2d_2 (Conv2D)                (None, 142, 142, 32)  25632       conv2d_1[0][0]                   \n",
      "____________________________________________________________________________________________________\n",
      "max_pooling2d_1 (MaxPooling2D)   (None, 71, 71, 32)    0           conv2d_2[0][0]                   \n",
      "____________________________________________________________________________________________________\n",
      "conv2d_3 (Conv2D)                (None, 67, 67, 32)    25632       max_pooling2d_1[0][0]            \n",
      "____________________________________________________________________________________________________\n",
      "conv2d_4 (Conv2D)                (None, 63, 63, 32)    25632       conv2d_3[0][0]                   \n",
      "____________________________________________________________________________________________________\n",
      "max_pooling2d_2 (MaxPooling2D)   (None, 32, 32, 32)    0           conv2d_4[0][0]                   \n",
      "____________________________________________________________________________________________________\n",
      "conv2d_5 (Conv2D)                (None, 28, 28, 32)    25632       max_pooling2d_2[0][0]            \n",
      "____________________________________________________________________________________________________\n",
      "conv2d_6 (Conv2D)                (None, 24, 24, 32)    25632       conv2d_5[0][0]                   \n",
      "____________________________________________________________________________________________________\n",
      "max_pooling2d_3 (MaxPooling2D)   (None, 12, 12, 32)    0           conv2d_6[0][0]                   \n",
      "____________________________________________________________________________________________________\n",
      "conv2d_7 (Conv2D)                (None, 12, 12, 32)    1056        max_pooling2d_3[0][0]            \n",
      "____________________________________________________________________________________________________\n",
      "conv2d_9 (Conv2D)                (None, 12, 12, 32)    1056        max_pooling2d_3[0][0]            \n",
      "____________________________________________________________________________________________________\n",
      "max_pooling2d_4 (MaxPooling2D)   (None, 12, 12, 32)    0           max_pooling2d_3[0][0]            \n",
      "____________________________________________________________________________________________________\n",
      "conv2d_8 (Conv2D)                (None, 12, 12, 32)    9248        conv2d_7[0][0]                   \n",
      "____________________________________________________________________________________________________\n",
      "conv2d_10 (Conv2D)               (None, 12, 12, 32)    25632       conv2d_9[0][0]                   \n",
      "____________________________________________________________________________________________________\n",
      "conv2d_11 (Conv2D)               (None, 12, 12, 32)    1056        max_pooling2d_4[0][0]            \n",
      "____________________________________________________________________________________________________\n",
      "concatenate_1 (Concatenate)      (None, 36, 12, 32)    0           conv2d_8[0][0]                   \n",
      "                                                                   conv2d_10[0][0]                  \n",
      "                                                                   conv2d_11[0][0]                  \n",
      "____________________________________________________________________________________________________\n",
      "flatten_1 (Flatten)              (None, 13824)         0           concatenate_1[0][0]              \n",
      "____________________________________________________________________________________________________\n",
      "input_2 (InputLayer)             (None, 8)             0                                            \n",
      "____________________________________________________________________________________________________\n",
      "concatenate_2 (Concatenate)      (None, 13832)         0           flatten_1[0][0]                  \n",
      "                                                                   input_2[0][0]                    \n",
      "____________________________________________________________________________________________________\n",
      "dense_1 (Dense)                  (None, 64)            885312      concatenate_2[0][0]              \n",
      "____________________________________________________________________________________________________\n",
      "dense_2 (Dense)                  (None, 64)            4160        dense_1[0][0]                    \n",
      "____________________________________________________________________________________________________\n",
      "dense_3 (Dense)                  (None, 5)             325         dense_2[0][0]                    \n",
      "====================================================================================================\n",
      "Total params: 1,056,837\n",
      "Trainable params: 1,056,837\n",
      "Non-trainable params: 0\n",
      "____________________________________________________________________________________________________\n"
     ]
    }
   ],
   "source": [
    "epochs = 5\n",
    "batch_size = 32\n",
    "\n",
    "input_img = Input(shape=(150, 150, 1))\n",
    "\n",
    "\n",
    "x=Conv2D(32,(5,5), activation='relu')(input_img)\n",
    "x=Conv2D(32,(5,5), activation='relu')(x)\n",
    "x=MaxPooling2D((4, 4), strides=(2, 2), padding='same')(x)\n",
    "\n",
    "x=Conv2D(32,(5,5), activation='relu')(x)\n",
    "x=Conv2D(32,(5,5), activation='relu')(x)\n",
    "x=MaxPooling2D((4, 4), strides=(2, 2), padding='same')(x)\n",
    "\n",
    "x=Conv2D(32,(5,5), activation='relu')(x)\n",
    "x=Conv2D(32,(5,5), activation='relu')(x)\n",
    "x=MaxPooling2D((4, 4), strides=(2, 2), padding='same')(x)\n",
    "\n",
    "tower_1 = Conv2D(32, (1, 1), padding='same', activation='relu')(x)\n",
    "tower_1 = Conv2D(32, (3, 3), padding='same', activation='relu')(tower_1)\n",
    "\n",
    "tower_2 = Conv2D(32, (1, 1), padding='same', activation='relu')(x)\n",
    "tower_2 = Conv2D(32, (5, 5), padding='same', activation='relu')(tower_2)\n",
    "\n",
    "tower_3 = MaxPooling2D((3, 3), strides=(1, 1), padding='same')(x)\n",
    "tower_3 = Conv2D(32, (1, 1), padding='same', activation='relu')(tower_3)\n",
    "\n",
    "aux_output1 = concatenate([tower_1, tower_2, tower_3], axis=1)\n",
    "\n",
    "features=Flatten()(aux_output1)\n",
    "\n",
    "extra = Input(shape=(len(key_words),))\n",
    "\n",
    "x=concatenate([features, extra], axis=1)\n",
    "x = Dense(64, activation='relu')(x)\n",
    "x = Dense(64, activation='relu')(x)\n",
    "output3=Dense(5, activation='softmax')(x)\n",
    " \n",
    "end_model = Model(inputs=[input_img,extra], outputs=output3)\n",
    "end_model.compile(loss='categorical_crossentropy',\n",
    "              optimizer='adam',\n",
    "              metrics=['accuracy'])\n",
    "end_model.summary()"
   ]
  },
  {
   "cell_type": "code",
   "execution_count": 11,
   "metadata": {},
   "outputs": [
    {
     "name": "stdout",
     "output_type": "stream",
     "text": [
      "Train on 10056 samples, validate on 2514 samples\n",
      "Epoch 1/5\n",
      "10056/10056 [==============================] - 39s - loss: 0.9056 - acc: 0.6681 - val_loss: 0.7946 - val_acc: 0.7235\n",
      "Epoch 2/5\n",
      "10056/10056 [==============================] - 35s - loss: 0.5472 - acc: 0.8027 - val_loss: 0.8539 - val_acc: 0.7200\n",
      "Epoch 3/5\n",
      "10056/10056 [==============================] - 35s - loss: 0.4693 - acc: 0.8324 - val_loss: 0.6670 - val_acc: 0.7860\n",
      "Epoch 4/5\n",
      "10056/10056 [==============================] - 36s - loss: 0.4194 - acc: 0.8468 - val_loss: 0.6544 - val_acc: 0.7987\n",
      "Epoch 5/5\n",
      "10056/10056 [==============================] - 36s - loss: 0.3796 - acc: 0.8625 - val_loss: 0.6330 - val_acc: 0.8158\n"
     ]
    },
    {
     "data": {
      "text/plain": [
       "<keras.callbacks.History at 0x1ba43c4d4e0>"
      ]
     },
     "execution_count": 11,
     "metadata": {},
     "output_type": "execute_result"
    }
   ],
   "source": [
    "end_model.fit([x_train,found_key_words], y_train, epochs=epochs, batch_size=batch_size, validation_split=0.2)"
   ]
  },
  {
   "cell_type": "code",
   "execution_count": 12,
   "metadata": {
    "collapsed": true
   },
   "outputs": [],
   "source": [
    "#from keras.utils import plot_model\n",
    "#plot_model(end_model, to_file='model.png',show_shapes=True)"
   ]
  },
  {
   "cell_type": "code",
   "execution_count": 13,
   "metadata": {
    "collapsed": true
   },
   "outputs": [],
   "source": [
    "end_model.save('Hanging_metod_classifier.h5')"
   ]
  }
 ],
 "metadata": {
  "kernelspec": {
   "display_name": "Python 3",
   "language": "python",
   "name": "python3"
  },
  "language_info": {
   "codemirror_mode": {
    "name": "ipython",
    "version": 3
   },
   "file_extension": ".py",
   "mimetype": "text/x-python",
   "name": "python",
   "nbconvert_exporter": "python",
   "pygments_lexer": "ipython3",
   "version": "3.5.3"
  }
 },
 "nbformat": 4,
 "nbformat_minor": 1
}
