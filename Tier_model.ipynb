{
 "cells": [
  {
   "cell_type": "code",
   "execution_count": 1,
   "metadata": {},
   "outputs": [
    {
     "name": "stderr",
     "output_type": "stream",
     "text": [
      "Using TensorFlow backend.\n"
     ]
    }
   ],
   "source": [
    "from PIL import Image\n",
    "import pandas as pd\n",
    "import numpy as np\n",
    "import matplotlib.pyplot as plt\n",
    "\n",
    "seed=3\n",
    "np.random.seed(seed)\n",
    "from keras.preprocessing.image import ImageDataGenerator\n",
    "from keras.models import Sequential\n",
    "from keras.layers import Conv2D, MaxPooling2D\n",
    "from keras.layers import Activation, Dropout, Flatten, Dense"
   ]
  },
  {
   "cell_type": "code",
   "execution_count": 2,
   "metadata": {
    "collapsed": true
   },
   "outputs": [],
   "source": [
    "labels_df = pd.read_csv('product_attributes_updated.csv', encoding='utf-8', \n",
    "                    dialect='excel', lineterminator='\\n')"
   ]
  },
  {
   "cell_type": "code",
   "execution_count": null,
   "metadata": {},
   "outputs": [],
   "source": [
    "for ColumnName in ['Tier']:\n",
    "    labels_df[ColumnName].value_counts().plot(kind=\"bar\")\n",
    "    plt.show()"
   ]
  },
  {
   "cell_type": "code",
   "execution_count": 3,
   "metadata": {
    "collapsed": true
   },
   "outputs": [],
   "source": [
    " def image2np_array( infilename ) :\n",
    "    img = Image.open( infilename )\n",
    "    img.load()\n",
    "    data = np.asarray( img, dtype=\"int32\" )\n",
    "    return data\n",
    "\n",
    "x_train_list=[]\n",
    "y_train_list=[]\n",
    "\n",
    "one_hot=pd.get_dummies(labels_df['Tier'])\n",
    "\n",
    "for row in labels_df.itertuples():\n",
    "    if pd.notnull(row[17]):\n",
    "        try:\n",
    "            img = image2np_array('..\\\\ml_150x150_m\\\\'+row[1]+'.jpg').reshape(150,150,1)\n",
    "        except IOError:\n",
    "            continue\n",
    "        x_train_list.append(img)\n",
    "        y_train_list.append(one_hot.loc[row[0],:].values)"
   ]
  },
  {
   "cell_type": "code",
   "execution_count": 4,
   "metadata": {
    "collapsed": true
   },
   "outputs": [],
   "source": [
    "x_train=np.array(x_train_list)\n",
    "y_train=np.array(y_train_list)\n",
    "len(y_train)==len(x_train)\n",
    "n_of_training_samples=int(len(x_train)*0.8)\n",
    "x_validation=x_train[n_of_training_samples:]\n",
    "y_validation=y_train[n_of_training_samples:]\n",
    "x_train=x_train[:n_of_training_samples]\n",
    "y_train=y_train[:n_of_training_samples]"
   ]
  },
  {
   "cell_type": "code",
   "execution_count": 5,
   "metadata": {
    "collapsed": true
   },
   "outputs": [],
   "source": [
    "epochs = 20\n",
    "batch_size = 32\n",
    "\n",
    "input_shape = (150, 150, 1)\n",
    "\n",
    "model = Sequential()\n",
    "model.add(Conv2D(32, (3, 3), input_shape=input_shape))\n",
    "model.add(Activation('relu'))\n",
    "model.add(MaxPooling2D(pool_size=(2, 2)))\n",
    "\n",
    "model.add(Conv2D(32, (3, 3)))\n",
    "model.add(Activation('relu'))\n",
    "model.add(MaxPooling2D(pool_size=(2, 2)))\n",
    "\n",
    "model.add(Conv2D(64, (3, 3)))\n",
    "model.add(Activation('relu'))\n",
    "model.add(MaxPooling2D(pool_size=(2, 2)))\n",
    "\n",
    "model.add(Flatten())\n",
    "model.add(Dense(64))\n",
    "model.add(Activation('relu'))\n",
    "model.add(Dropout(0.5,seed=seed))\n",
    "model.add(Dense(4))\n",
    "model.add(Activation('softmax'))\n",
    "\n",
    "model.compile(loss='categorical_crossentropy',\n",
    "              optimizer='Adam',\n",
    "metrics=['accuracy'])"
   ]
  },
  {
   "cell_type": "code",
   "execution_count": 6,
   "metadata": {},
   "outputs": [
    {
     "name": "stdout",
     "output_type": "stream",
     "text": [
      "Epoch 1/20\n",
      "96/95 [==============================] - 6s - loss: 0.5570 - acc: 0.8547 - val_loss: 0.7384 - val_acc: 0.9542\n",
      "Epoch 2/20\n",
      "96/95 [==============================] - 4s - loss: 0.4655 - acc: 0.8677 - val_loss: 0.7384 - val_acc: 0.9542\n",
      "Epoch 3/20\n",
      "96/95 [==============================] - 4s - loss: 0.3712 - acc: 0.8896 - val_loss: 0.7384 - val_acc: 0.9542\n",
      "Epoch 4/20\n",
      "96/95 [==============================] - 4s - loss: 0.3638 - acc: 0.8911 - val_loss: 0.7384 - val_acc: 0.9542\n",
      "Epoch 5/20\n",
      "96/95 [==============================] - 4s - loss: 0.3565 - acc: 0.8917 - val_loss: 0.7384 - val_acc: 0.9542\n",
      "Epoch 6/20\n",
      "96/95 [==============================] - 4s - loss: 0.3400 - acc: 0.8964 - val_loss: 0.8225 - val_acc: 0.9490\n",
      "Epoch 7/20\n",
      "96/95 [==============================] - 4s - loss: 0.3095 - acc: 0.9028 - val_loss: 0.7806 - val_acc: 0.9516\n",
      "Epoch 8/20\n",
      "96/95 [==============================] - 4s - loss: 0.3002 - acc: 0.9035 - val_loss: 0.7173 - val_acc: 0.9555\n",
      "Epoch 9/20\n",
      "96/95 [==============================] - 4s - loss: 0.2807 - acc: 0.9052 - val_loss: 0.7516 - val_acc: 0.9529\n",
      "Epoch 10/20\n",
      "96/95 [==============================] - 4s - loss: 0.2832 - acc: 0.9082 - val_loss: 0.7384 - val_acc: 0.9542\n",
      "Epoch 11/20\n",
      "96/95 [==============================] - 4s - loss: 0.2861 - acc: 0.9089 - val_loss: 0.8814 - val_acc: 0.9450\n",
      "Epoch 12/20\n",
      "96/95 [==============================] - 4s - loss: 0.2727 - acc: 0.9111 - val_loss: 0.7595 - val_acc: 0.9529\n",
      "Epoch 13/20\n",
      "96/95 [==============================] - 4s - loss: 0.2546 - acc: 0.9102 - val_loss: 0.7384 - val_acc: 0.9542\n",
      "Epoch 14/20\n",
      "96/95 [==============================] - 4s - loss: 0.2528 - acc: 0.9113 - val_loss: 0.7704 - val_acc: 0.9516\n",
      "Epoch 15/20\n",
      "96/95 [==============================] - 4s - loss: 0.2462 - acc: 0.9193 - val_loss: 0.7384 - val_acc: 0.9542\n",
      "Epoch 16/20\n",
      "96/95 [==============================] - 4s - loss: 0.2383 - acc: 0.9146 - val_loss: 0.7595 - val_acc: 0.9529\n",
      "Epoch 17/20\n",
      "96/95 [==============================] - 4s - loss: 0.2353 - acc: 0.9159 - val_loss: 0.9157 - val_acc: 0.9385\n",
      "Epoch 18/20\n",
      "96/95 [==============================] - 4s - loss: 0.2303 - acc: 0.9181 - val_loss: 0.7384 - val_acc: 0.9542\n",
      "Epoch 19/20\n",
      "96/95 [==============================] - 4s - loss: 0.2215 - acc: 0.9232 - val_loss: 0.7595 - val_acc: 0.9529\n",
      "Epoch 20/20\n",
      "96/95 [==============================] - 4s - loss: 0.2252 - acc: 0.9222 - val_loss: 0.8393 - val_acc: 0.9463\n"
     ]
    },
    {
     "data": {
      "text/plain": [
       "<keras.callbacks.History at 0x2050ef4cb00>"
      ]
     },
     "execution_count": 6,
     "metadata": {},
     "output_type": "execute_result"
    }
   ],
   "source": [
    "train_datagen = ImageDataGenerator(\n",
    "    rescale=1. / 255,\n",
    "    zoom_range=0.2,\n",
    "    horizontal_flip=True)\n",
    "\n",
    "model.fit_generator(train_datagen.flow(x_train, y_train, batch_size=batch_size),\n",
    "                    validation_data=(x_validation,y_validation),\n",
    "                    steps_per_epoch=len(x_train) / batch_size, epochs=epochs)"
   ]
  },
  {
   "cell_type": "code",
   "execution_count": 7,
   "metadata": {
    "collapsed": true
   },
   "outputs": [],
   "source": [
    "model.save('Tier_classifier.h5')"
   ]
  }
 ],
 "metadata": {
  "kernelspec": {
   "display_name": "Python 3",
   "language": "python",
   "name": "python3"
  },
  "language_info": {
   "codemirror_mode": {
    "name": "ipython",
    "version": 3
   },
   "file_extension": ".py",
   "mimetype": "text/x-python",
   "name": "python",
   "nbconvert_exporter": "python",
   "pygments_lexer": "ipython3",
   "version": "3.5.3"
  }
 },
 "nbformat": 4,
 "nbformat_minor": 1
}
