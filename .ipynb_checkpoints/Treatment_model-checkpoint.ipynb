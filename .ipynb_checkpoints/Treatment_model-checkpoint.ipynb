{
 "cells": [
  {
   "cell_type": "code",
   "execution_count": 1,
   "metadata": {},
   "outputs": [
    {
     "name": "stderr",
     "output_type": "stream",
     "text": [
      "Using TensorFlow backend.\n"
     ]
    }
   ],
   "source": [
    "from PIL import Image\n",
    "import pandas as pd\n",
    "import numpy as np\n",
    "import matplotlib.pyplot as plt\n",
    "\n",
    "seed=3\n",
    "np.random.seed(seed)\n",
    "\n",
    "from keras.layers import Input, Dense\n",
    "from keras.models import Model\n",
    "\n",
    "from keras.preprocessing.image import ImageDataGenerator\n",
    "from keras.models import Sequential\n",
    "from keras.layers import Conv2D, MaxPooling2D\n",
    "from keras.layers import Activation, Dropout, Flatten, Concatenate, concatenate\n",
    "from keras.utils import to_categorical"
   ]
  },
  {
   "cell_type": "code",
   "execution_count": 2,
   "metadata": {
    "collapsed": true
   },
   "outputs": [],
   "source": [
    "labels_df = pd.read_csv('product_attributes_updated.csv', encoding='utf-8', \n",
    "                    dialect='excel', lineterminator='\\n')"
   ]
  },
  {
   "cell_type": "code",
   "execution_count": 3,
   "metadata": {},
   "outputs": [
    {
     "data": {
      "image/png": "[encoded data removed]",
      "text/plain": [
       "<matplotlib.figure.Figure at 0x23e04e67438>"
      ]
     },
     "metadata": {},
     "output_type": "display_data"
    }
   ],
   "source": [
    "def delete_rare_records(treshold,column_name):\n",
    "    global labels_df\n",
    "    e = labels_df[column_name].value_counts()\n",
    "    return labels_df[labels_df[column_name].isin(e[e>treshold].index)]\n",
    "cleaned_labels_df=delete_rare_records(treshold=200,column_name='Treatment')\n",
    "cleaned_labels_df['Treatment'].value_counts().plot(kind=\"bar\")\n",
    "plt.show()"
   ]
  },
  {
   "cell_type": "code",
   "execution_count": 4,
   "metadata": {},
   "outputs": [
    {
     "data": {
      "image/png": "[encoded data removed]",
      "text/plain": [
       "<matplotlib.figure.Figure at 0x23e045898d0>"
      ]
     },
     "metadata": {},
     "output_type": "display_data"
    }
   ],
   "source": [
    "labels_df['Treatment'].value_counts().plot(kind=\"bar\")\n",
    "plt.show()"
   ]
  },
  {
   "cell_type": "code",
   "execution_count": 5,
   "metadata": {},
   "outputs": [
    {
     "data": {
      "text/plain": [
       "34336"
      ]
     },
     "execution_count": 5,
     "metadata": {},
     "output_type": "execute_result"
    }
   ],
   "source": [
    "len(labels_df)"
   ]
  },
  {
   "cell_type": "code",
   "execution_count": 6,
   "metadata": {
    "scrolled": true
   },
   "outputs": [
    {
     "data": {
      "text/plain": [
       "16668"
      ]
     },
     "execution_count": 6,
     "metadata": {},
     "output_type": "execute_result"
    }
   ],
   "source": [
    "len(cleaned_labels_df)"
   ]
  },
  {
   "cell_type": "code",
   "execution_count": 7,
   "metadata": {},
   "outputs": [],
   "source": [
    " def image2np_array( infilename ) :\n",
    "    img = Image.open( infilename )\n",
    "    img.load()\n",
    "    data = np.asarray( img, dtype=\"int32\" )\n",
    "    return data\n",
    "\n",
    "x_train_list=[]\n",
    "y_train_list=[]\n",
    "\n",
    "key_words=['Bronze','Brown','Satin','Polished','Brushed','Antique','Oil','Matte','Patina','Textured','Wall','Sconce','Lamp','Nickel']\n",
    "found_key_words_list=[]\n",
    "\n",
    "one_hot=pd.get_dummies(cleaned_labels_df['Treatment'])\n",
    "\n",
    "for row in cleaned_labels_df.itertuples():\n",
    "    if pd.notnull(row[10]):\n",
    "        try:\n",
    "            img = image2np_array('..\\\\ml_150x150\\\\'+row[1]+'.jpg').reshape(150,150,3)\n",
    "        except IOError:\n",
    "            continue\n",
    "        x_train_list.append(img)\n",
    "        y_train_list.append(one_hot.loc[row[0],:].values)\n",
    "        x=0\n",
    "        for x in key_words:\n",
    "            if x in row[8].split(): \n",
    "                found_key_words_list.append(key_words.index(x)+1)    \n",
    "            else:\n",
    "                found_key_words_list.append(0)   \n",
    "found_key_words_list_cat=to_categorical(found_key_words_list)"
   ]
  },
  {
   "cell_type": "code",
   "execution_count": 8,
   "metadata": {},
   "outputs": [],
   "source": [
    "x_train=np.array(x_train_list)\n",
    "found_key_words=np.array(found_key_words_list_cat)\n",
    "y_train=np.array(y_train_list)\n",
    "\n",
    "n_of_training_samples=int(len(x_train)*0.8)\n",
    "\n",
    "x_validation=x_train[n_of_training_samples:]\n",
    "key_words_validation=found_key_words[n_of_training_samples:]\n",
    "y_validation=y_train[n_of_training_samples:]\n",
    "\n",
    "x_train=x_train[:n_of_training_samples]\n",
    "key_words_train=found_key_words[:n_of_training_samples]\n",
    "y_train=y_train[:n_of_training_samples]"
   ]
  },
  {
   "cell_type": "code",
   "execution_count": 36,
   "metadata": {},
   "outputs": [
    {
     "data": {
      "text/plain": [
       "(13330, 15)"
      ]
     },
     "execution_count": 36,
     "metadata": {},
     "output_type": "execute_result"
    }
   ],
   "source": [
    "key_words_train.shape"
   ]
  },
  {
   "cell_type": "code",
   "execution_count": 49,
   "metadata": {
    "scrolled": true
   },
   "outputs": [
    {
     "name": "stdout",
     "output_type": "stream",
     "text": [
      "____________________________________________________________________________________________________\n",
      "Layer (type)                     Output Shape          Param #     Connected to                     \n",
      "====================================================================================================\n",
      "input_29 (InputLayer)            (None, 150, 150, 3)   0                                            \n",
      "____________________________________________________________________________________________________\n",
      "conv2d_115 (Conv2D)              (None, 146, 146, 64)  4864        input_29[0][0]                   \n",
      "____________________________________________________________________________________________________\n",
      "conv2d_116 (Conv2D)              (None, 142, 142, 64)  102464      conv2d_115[0][0]                 \n",
      "____________________________________________________________________________________________________\n",
      "max_pooling2d_58 (MaxPooling2D)  (None, 71, 71, 64)    0           conv2d_116[0][0]                 \n",
      "____________________________________________________________________________________________________\n",
      "conv2d_117 (Conv2D)              (None, 67, 67, 64)    102464      max_pooling2d_58[0][0]           \n",
      "____________________________________________________________________________________________________\n",
      "conv2d_118 (Conv2D)              (None, 63, 63, 64)    102464      conv2d_117[0][0]                 \n",
      "____________________________________________________________________________________________________\n",
      "max_pooling2d_59 (MaxPooling2D)  (None, 32, 32, 64)    0           conv2d_118[0][0]                 \n",
      "____________________________________________________________________________________________________\n",
      "conv2d_119 (Conv2D)              (None, 28, 28, 64)    102464      max_pooling2d_59[0][0]           \n",
      "____________________________________________________________________________________________________\n",
      "conv2d_120 (Conv2D)              (None, 24, 24, 64)    102464      conv2d_119[0][0]                 \n",
      "____________________________________________________________________________________________________\n",
      "max_pooling2d_60 (MaxPooling2D)  (None, 24, 24, 64)    0           conv2d_120[0][0]                 \n",
      "____________________________________________________________________________________________________\n",
      "flatten_20 (Flatten)             (None, 36864)         0           max_pooling2d_60[0][0]           \n",
      "____________________________________________________________________________________________________\n",
      "input_30 (InputLayer)            (None, 15)            0                                            \n",
      "____________________________________________________________________________________________________\n",
      "concatenate_9 (Concatenate)      (None, 36879)         0           flatten_20[0][0]                 \n",
      "                                                                   input_30[0][0]                   \n",
      "____________________________________________________________________________________________________\n",
      "dense_35 (Dense)                 (None, 64)            2360320     concatenate_9[0][0]              \n",
      "____________________________________________________________________________________________________\n",
      "dense_36 (Dense)                 (None, 8)             520         dense_35[0][0]                   \n",
      "====================================================================================================\n",
      "Total params: 2,878,024\n",
      "Trainable params: 2,878,024\n",
      "Non-trainable params: 0\n",
      "____________________________________________________________________________________________________\n"
     ]
    }
   ],
   "source": [
    "epochs = 10\n",
    "batch_size = 16\n",
    "\n",
    "input_img = Input(shape=(150, 150, 3))\n",
    "\n",
    "x=Conv2D(64,(5,5), activation='relu')(input_img)\n",
    "x=Conv2D(64,(5,5), activation='relu')(x)\n",
    "x=MaxPooling2D((4, 4), strides=(2, 2), padding='same')(x)\n",
    "\n",
    "x=Conv2D(64,(5,5), activation='relu')(x)\n",
    "x=Conv2D(64,(5,5), activation='relu')(x)\n",
    "x=MaxPooling2D((4, 4), strides=(2, 2), padding='same')(x)\n",
    "\n",
    "x=Conv2D(64,(5,5), activation='relu')(x)\n",
    "x=Conv2D(64,(5,5), activation='relu')(x)\n",
    "x=MaxPooling2D((5, 5), strides=(1, 1), padding='same')(x)\n",
    "\n",
    "features=Flatten()(x)\n",
    "\n",
    "extra = Input(shape=(15,))\n",
    "\n",
    "x=concatenate([features, extra], axis=1)\n",
    "x = Dense(64, activation='relu')(x)\n",
    "output2=Dense(8, activation='softmax')(x)\n",
    "\n",
    "end_model = Model(inputs=[input_img,extra], outputs=[output2])\n",
    "end_model.compile(loss='categorical_crossentropy',\n",
    "              optimizer='adam',\n",
    "              metrics=['accuracy'])\n",
    "end_model.summary()"
   ]
  },
  {
   "cell_type": "code",
   "execution_count": 50,
   "metadata": {},
   "outputs": [
    {
     "ename": "ValueError",
     "evalue": "could not broadcast input array from shape (13330,150,150,3) into shape (13330)",
     "output_type": "error",
     "traceback": [
      "\u001b[1;31m---------------------------------------------------------------------------\u001b[0m",
      "\u001b[1;31mValueError\u001b[0m                                Traceback (most recent call last)",
      "\u001b[1;32m<ipython-input-50-6c422dbabb14>\u001b[0m in \u001b[0;36m<module>\u001b[1;34m()\u001b[0m\n\u001b[0;32m      4\u001b[0m     horizontal_flip=True)\n\u001b[0;32m      5\u001b[0m \u001b[1;33m\u001b[0m\u001b[0m\n\u001b[1;32m----> 6\u001b[1;33m end_model.fit_generator(train_datagen.flow([x_train,key_words_train], y_train, batch_size=batch_size),\n\u001b[0m\u001b[0;32m      7\u001b[0m                         \u001b[0mvalidation_data\u001b[0m\u001b[1;33m=\u001b[0m\u001b[1;33m(\u001b[0m\u001b[1;33m[\u001b[0m\u001b[0mx_validation\u001b[0m\u001b[1;33m,\u001b[0m\u001b[0mkey_words_validation\u001b[0m\u001b[1;33m]\u001b[0m\u001b[1;33m,\u001b[0m\u001b[0my_validation\u001b[0m\u001b[1;33m)\u001b[0m\u001b[1;33m,\u001b[0m\u001b[1;33m\u001b[0m\u001b[0m\n\u001b[0;32m      8\u001b[0m                         steps_per_epoch=len(x_train) / batch_size, epochs=epochs)\n",
      "\u001b[1;32mc:\\python35x64\\lib\\site-packages\\keras\\preprocessing\\image.py\u001b[0m in \u001b[0;36mflow\u001b[1;34m(self, x, y, batch_size, shuffle, seed, save_to_dir, save_prefix, save_format)\u001b[0m\n\u001b[0;32m    453\u001b[0m             \u001b[0msave_to_dir\u001b[0m\u001b[1;33m=\u001b[0m\u001b[0msave_to_dir\u001b[0m\u001b[1;33m,\u001b[0m\u001b[1;33m\u001b[0m\u001b[0m\n\u001b[0;32m    454\u001b[0m             \u001b[0msave_prefix\u001b[0m\u001b[1;33m=\u001b[0m\u001b[0msave_prefix\u001b[0m\u001b[1;33m,\u001b[0m\u001b[1;33m\u001b[0m\u001b[0m\n\u001b[1;32m--> 455\u001b[1;33m             save_format=save_format)\n\u001b[0m\u001b[0;32m    456\u001b[0m \u001b[1;33m\u001b[0m\u001b[0m\n\u001b[0;32m    457\u001b[0m     def flow_from_directory(self, directory,\n",
      "\u001b[1;32mc:\\python35x64\\lib\\site-packages\\keras\\preprocessing\\image.py\u001b[0m in \u001b[0;36m__init__\u001b[1;34m(self, x, y, image_data_generator, batch_size, shuffle, seed, data_format, save_to_dir, save_prefix, save_format)\u001b[0m\n\u001b[0;32m    758\u001b[0m                              \u001b[1;34m'should have the same length. '\u001b[0m\u001b[1;33m\u001b[0m\u001b[0m\n\u001b[0;32m    759\u001b[0m                              \u001b[1;34m'Found: X.shape = %s, y.shape = %s'\u001b[0m \u001b[1;33m%\u001b[0m\u001b[1;33m\u001b[0m\u001b[0m\n\u001b[1;32m--> 760\u001b[1;33m                              (np.asarray(x).shape, np.asarray(y).shape))\n\u001b[0m\u001b[0;32m    761\u001b[0m \u001b[1;33m\u001b[0m\u001b[0m\n\u001b[0;32m    762\u001b[0m         \u001b[1;32mif\u001b[0m \u001b[0mdata_format\u001b[0m \u001b[1;32mis\u001b[0m \u001b[1;32mNone\u001b[0m\u001b[1;33m:\u001b[0m\u001b[1;33m\u001b[0m\u001b[0m\n",
      "\u001b[1;32mc:\\python35x64\\lib\\site-packages\\numpy\\core\\numeric.py\u001b[0m in \u001b[0;36masarray\u001b[1;34m(a, dtype, order)\u001b[0m\n\u001b[0;32m    529\u001b[0m \u001b[1;33m\u001b[0m\u001b[0m\n\u001b[0;32m    530\u001b[0m     \"\"\"\n\u001b[1;32m--> 531\u001b[1;33m     \u001b[1;32mreturn\u001b[0m \u001b[0marray\u001b[0m\u001b[1;33m(\u001b[0m\u001b[0ma\u001b[0m\u001b[1;33m,\u001b[0m \u001b[0mdtype\u001b[0m\u001b[1;33m,\u001b[0m \u001b[0mcopy\u001b[0m\u001b[1;33m=\u001b[0m\u001b[1;32mFalse\u001b[0m\u001b[1;33m,\u001b[0m \u001b[0morder\u001b[0m\u001b[1;33m=\u001b[0m\u001b[0morder\u001b[0m\u001b[1;33m)\u001b[0m\u001b[1;33m\u001b[0m\u001b[0m\n\u001b[0m\u001b[0;32m    532\u001b[0m \u001b[1;33m\u001b[0m\u001b[0m\n\u001b[0;32m    533\u001b[0m \u001b[1;33m\u001b[0m\u001b[0m\n",
      "\u001b[1;31mValueError\u001b[0m: could not broadcast input array from shape (13330,150,150,3) into shape (13330)"
     ]
    }
   ],
   "source": [
    "train_datagen = ImageDataGenerator(\n",
    "    rescale=1. / 255,\n",
    "    zoom_range=0.2,\n",
    "    horizontal_flip=True)\n",
    "\n",
    "end_model.fit_generator(train_datagen.flow([x_train,key_words_train], y_train, batch_size=batch_size),\n",
    "                        validation_data=([x_validation,key_words_validation],y_validation),\n",
    "                        steps_per_epoch=len(x_train) / batch_size, epochs=epochs)"
   ]
  },
  {
   "cell_type": "code",
   "execution_count": null,
   "metadata": {
    "collapsed": true
   },
   "outputs": [],
   "source": [
    "#model.save('Treatment_classifier.h5')"
   ]
  }
 ],
 "metadata": {
  "kernelspec": {
   "display_name": "Python 3",
   "language": "python",
   "name": "python3"
  },
  "language_info": {
   "codemirror_mode": {
    "name": "ipython",
    "version": 3
   },
   "file_extension": ".py",
   "mimetype": "text/x-python",
   "name": "python",
   "nbconvert_exporter": "python",
   "pygments_lexer": "ipython3",
   "version": "3.5.3"
  }
 },
 "nbformat": 4,
 "nbformat_minor": 1
}
