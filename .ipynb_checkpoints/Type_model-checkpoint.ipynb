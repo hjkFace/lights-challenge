{
 "cells": [
  {
   "cell_type": "code",
   "execution_count": 1,
   "metadata": {},
   "outputs": [
    {
     "name": "stderr",
     "output_type": "stream",
     "text": [
      "Using TensorFlow backend.\n"
     ]
    }
   ],
   "source": [
    "from PIL import Image\n",
    "import pandas as pd\n",
    "import numpy as np\n",
    "import matplotlib.pyplot as plt\n",
    "\n",
    "seed=3\n",
    "np.random.seed(seed)\n",
    "from keras.preprocessing.image import ImageDataGenerator\n",
    "from keras.models import Sequential\n",
    "from keras.layers import Conv2D, MaxPooling2D\n",
    "from keras.layers import Activation, Dropout, Flatten, Dense"
   ]
  },
  {
   "cell_type": "code",
   "execution_count": 2,
   "metadata": {
    "collapsed": true
   },
   "outputs": [],
   "source": [
    "labels_df = pd.read_csv('product_attributes_updated.csv', encoding='utf-8', \n",
    "                    dialect='excel', lineterminator='\\n')"
   ]
  },
  {
   "cell_type": "code",
   "execution_count": null,
   "metadata": {
    "collapsed": true
   },
   "outputs": [],
   "source": [
    "for ColumnName in ['Type']:\n",
    "    labels_df[ColumnName].value_counts().plot(kind=\"bar\")\n",
    "    plt.show()"
   ]
  },
  {
   "cell_type": "code",
   "execution_count": 3,
   "metadata": {},
   "outputs": [],
   "source": [
    " def image2np_array( infilename ) :\n",
    "    img = Image.open( infilename )\n",
    "    img.load()\n",
    "    data = np.asarray( img, dtype=\"int32\" )\n",
    "    return data\n",
    "\n",
    "x_train_list=[]\n",
    "y_train_list=[]\n",
    "\n",
    "one_hot=pd.get_dummies(labels_df['Type'])\n",
    "\n",
    "for row in labels_df.itertuples():\n",
    "    if pd.notnull(row[7]):\n",
    "        try:\n",
    "            img = image2np_array('..\\\\ml_150x150_m\\\\'+row[1]+'.jpg').reshape(150,150,1)\n",
    "        except IOError:\n",
    "            continue\n",
    "        x_train_list.append(img)\n",
    "        y_train_list.append(one_hot.loc[row[0],:].values)"
   ]
  },
  {
   "cell_type": "code",
   "execution_count": 4,
   "metadata": {},
   "outputs": [],
   "source": [
    "x_train=np.array(x_train_list)\n",
    "y_train=np.array(y_train_list)\n",
    "len(y_train)==len(x_train)\n",
    "n_of_training_samples=int(len(x_train)*0.8)\n",
    "x_validation=x_train[n_of_training_samples:]\n",
    "y_validation=y_train[n_of_training_samples:]\n",
    "x_train=x_train[:n_of_training_samples]\n",
    "y_train=y_train[:n_of_training_samples]"
   ]
  },
  {
   "cell_type": "code",
   "execution_count": 5,
   "metadata": {
    "collapsed": true
   },
   "outputs": [],
   "source": [
    "epochs = 10\n",
    "batch_size = 32\n",
    "\n",
    "input_shape = (150, 150, 1)\n",
    "\n",
    "model = Sequential()\n",
    "model.add(Conv2D(32, (3, 3), input_shape=input_shape))\n",
    "model.add(Activation('relu'))\n",
    "model.add(MaxPooling2D(pool_size=(2, 2)))\n",
    "\n",
    "model.add(Conv2D(32, (3, 3)))\n",
    "model.add(Activation('relu'))\n",
    "model.add(MaxPooling2D(pool_size=(2, 2)))\n",
    "\n",
    "model.add(Conv2D(64, (3, 3)))\n",
    "model.add(Activation('relu'))\n",
    "model.add(MaxPooling2D(pool_size=(2, 2)))\n",
    "\n",
    "model.add(Flatten())\n",
    "model.add(Dense(64))\n",
    "model.add(Activation('relu'))\n",
    "model.add(Dropout(0.5,seed=seed))\n",
    "model.add(Dense(80))\n",
    "model.add(Activation('softmax'))\n",
    "\n",
    "model.compile(loss='categorical_crossentropy',\n",
    "              optimizer='Adam',\n",
    "metrics=['accuracy'])"
   ]
  },
  {
   "cell_type": "code",
   "execution_count": 6,
   "metadata": {},
   "outputs": [
    {
     "name": "stdout",
     "output_type": "stream",
     "text": [
      "Epoch 1/10\n",
      "857/856 [==============================] - 50s - loss: 2.4297 - acc: 0.3641 - val_loss: 9.3202 - val_acc: 0.4061\n",
      "Epoch 2/10\n",
      "857/856 [==============================] - 47s - loss: 1.8370 - acc: 0.4985 - val_loss: 8.7097 - val_acc: 0.4477\n",
      "Epoch 3/10\n",
      "857/856 [==============================] - 47s - loss: 1.6230 - acc: 0.5520 - val_loss: 11.2667 - val_acc: 0.2868\n",
      "Epoch 4/10\n",
      "857/856 [==============================] - 47s - loss: 1.4642 - acc: 0.5910 - val_loss: 13.4309 - val_acc: 0.1596\n",
      "Epoch 5/10\n",
      "857/856 [==============================] - 47s - loss: 1.3575 - acc: 0.6145 - val_loss: 11.0271 - val_acc: 0.3012\n",
      "Epoch 6/10\n",
      "857/856 [==============================] - 47s - loss: 1.2900 - acc: 0.6293 - val_loss: 13.8876 - val_acc: 0.1323\n",
      "Epoch 7/10\n",
      "857/856 [==============================] - 47s - loss: 1.2296 - acc: 0.6420 - val_loss: 13.1286 - val_acc: 0.1813\n",
      "Epoch 8/10\n",
      "857/856 [==============================] - 46s - loss: 1.1738 - acc: 0.6614 - val_loss: 11.1731 - val_acc: 0.2907\n",
      "Epoch 9/10\n",
      "857/856 [==============================] - 46s - loss: 1.1269 - acc: 0.6699 - val_loss: 11.7135 - val_acc: 0.2664\n",
      "Epoch 10/10\n",
      "857/856 [==============================] - 46s - loss: 1.0916 - acc: 0.6804 - val_loss: 11.0264 - val_acc: 0.3075\n"
     ]
    },
    {
     "data": {
      "text/plain": [
       "<keras.callbacks.History at 0x29112270b38>"
      ]
     },
     "execution_count": 6,
     "metadata": {},
     "output_type": "execute_result"
    }
   ],
   "source": [
    "train_datagen = ImageDataGenerator(\n",
    "    rescale=1. / 255,\n",
    "    zoom_range=0.2,\n",
    "    horizontal_flip=True)\n",
    "\n",
    "model.fit_generator(train_datagen.flow(x_train, y_train, batch_size=batch_size),\n",
    "                    validation_data=(x_validation,y_validation),\n",
    "                    steps_per_epoch=len(x_train) / batch_size, epochs=epochs)"
   ]
  },
  {
   "cell_type": "code",
   "execution_count": 7,
   "metadata": {
    "collapsed": true
   },
   "outputs": [],
   "source": [
    "model.save('type_classifier.h5')"
   ]
  }
 ],
 "metadata": {
  "kernelspec": {
   "display_name": "Python 3",
   "language": "python",
   "name": "python3"
  },
  "language_info": {
   "codemirror_mode": {
    "name": "ipython",
    "version": 3
   },
   "file_extension": ".py",
   "mimetype": "text/x-python",
   "name": "python",
   "nbconvert_exporter": "python",
   "pygments_lexer": "ipython3",
   "version": "3.5.3"
  }
 },
 "nbformat": 4,
 "nbformat_minor": 1
}
