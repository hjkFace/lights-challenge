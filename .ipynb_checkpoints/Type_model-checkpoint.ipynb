{
 "cells": [
  {
   "cell_type": "code",
   "execution_count": 1,
   "metadata": {
    "collapsed": false
   },
   "outputs": [
    {
     "name": "stderr",
     "output_type": "stream",
     "text": [
      "Using TensorFlow backend.\n"
     ]
    }
   ],
   "source": [
    "from PIL import Image\n",
    "import pandas as pd\n",
    "import numpy as np\n",
    "import matplotlib.pyplot as plt\n",
    "\n",
    "seed=3\n",
    "np.random.seed(seed)\n",
    "from keras.preprocessing.image import ImageDataGenerator\n",
    "from keras.models import Sequential\n",
    "from keras.layers import Conv2D, MaxPooling2D\n",
    "from keras.layers import Activation, Dropout, Flatten, Dense"
   ]
  },
  {
   "cell_type": "code",
   "execution_count": 2,
   "metadata": {
    "collapsed": true
   },
   "outputs": [],
   "source": [
    "labels_df = pd.read_csv('product_attributes_updated.csv', encoding='utf-8', \n",
    "                    dialect='excel', lineterminator='\\n')"
   ]
  },
  {
   "cell_type": "code",
   "execution_count": null,
   "metadata": {
    "collapsed": false,
    "scrolled": true
   },
   "outputs": [],
   "source": [
    "for ColumnName in ['Type']:\n",
    "    labels_df[ColumnName].value_counts().plot(kind=\"bar\")\n",
    "    plt.show()"
   ]
  },
  {
   "cell_type": "code",
   "execution_count": 3,
   "metadata": {
    "collapsed": false
   },
   "outputs": [],
   "source": [
    " def image2np_array( infilename ) :\n",
    "    img = Image.open( infilename )\n",
    "    img.load()\n",
    "    data = np.asarray( img, dtype=\"int32\" )\n",
    "    return data\n",
    "\n",
    "x_train_list=[]\n",
    "y_train_list=[]\n",
    "\n",
    "one_hot=pd.get_dummies(labels_df['Type'])\n",
    "\n",
    "for row in labels_df.itertuples():\n",
    "    if pd.notnull(row[7]):\n",
    "        try:\n",
    "            img = image2np_array('..\\\\ml_150x150_m\\\\'+row[1]+'.jpg').reshape(150,150,1)\n",
    "        except IOError:\n",
    "            continue\n",
    "        x_train_list.append(img)\n",
    "        y_train_list.append(one_hot.loc[row[0],:].values)"
   ]
  },
  {
   "cell_type": "code",
   "execution_count": null,
   "metadata": {
    "collapsed": true
   },
   "outputs": [],
   "source": [
    "x_train=np.array(x_train_list)\n",
    "y_train=np.array(y_train_list)\n",
    "len(y_train)==len(x_train)\n",
    "n_of_training_samples=int(len(x_train)*0.8)\n",
    "x_validation=x_train[n_of_training_samples:]\n",
    "y_validation=y_train[n_of_training_samples:]\n",
    "x_train=x_train[:n_of_training_samples]\n",
    "y_train=y_train[:n_of_training_samples]"
   ]
  },
  {
   "cell_type": "code",
   "execution_count": null,
   "metadata": {
    "collapsed": true
   },
   "outputs": [],
   "source": [
    "epochs = 10\n",
    "batch_size = 32\n",
    "\n",
    "input_shape = (150, 150, 1)\n",
    "\n",
    "model = Sequential()\n",
    "model.add(Conv2D(32, (3, 3), input_shape=input_shape))\n",
    "model.add(Activation('relu'))\n",
    "model.add(MaxPooling2D(pool_size=(2, 2)))\n",
    "\n",
    "model.add(Conv2D(32, (3, 3)))\n",
    "model.add(Activation('relu'))\n",
    "model.add(MaxPooling2D(pool_size=(2, 2)))\n",
    "\n",
    "model.add(Conv2D(64, (3, 3)))\n",
    "model.add(Activation('relu'))\n",
    "model.add(MaxPooling2D(pool_size=(2, 2)))\n",
    "\n",
    "model.add(Flatten())\n",
    "model.add(Dense(64))\n",
    "model.add(Activation('relu'))\n",
    "model.add(Dropout(0.5,seed=seed))\n",
    "model.add(Dense(80))\n",
    "model.add(Activation('softmax'))\n",
    "\n",
    "model.compile(loss='categorical_crossentropy',\n",
    "              optimizer='Adam',\n",
    "metrics=['accuracy'])"
   ]
  },
  {
   "cell_type": "code",
   "execution_count": null,
   "metadata": {
    "collapsed": true
   },
   "outputs": [],
   "source": [
    "train_datagen = ImageDataGenerator(\n",
    "    rescale=1. / 255,\n",
    "    zoom_range=0.2,\n",
    "    horizontal_flip=True)\n",
    "\n",
    "model.fit_generator(train_datagen.flow(x_train, y_train, batch_size=batch_size),\n",
    "                    validation_data=(x_validation,y_validation),\n",
    "                    steps_per_epoch=len(x_train) / batch_size, epochs=epochs)"
   ]
  },
  {
   "cell_type": "code",
   "execution_count": null,
   "metadata": {
    "collapsed": true
   },
   "outputs": [],
   "source": [
    "model.save('type_classifier.h5')"
   ]
  },
  {
   "cell_type": "code",
   "execution_count": 4,
   "metadata": {
    "collapsed": false
   },
   "outputs": [
    {
     "name": "stdout",
     "output_type": "stream",
     "text": [
      "Pandas(Index=0, ProductID='100009', EID=100009.0, PID='P363717', VID='1901-SN', Department='Wall Lights', Category='Sconces', Type='Sconces', _8='Single-Light Sconce with Pleated Shade', Finish1='Satin Nickel / Satin Chrome', Treatment='Satin', _11=nan, _12='White Tones', _13='Conical', Style1='Traditional', Style2='Classical', Style3='Colonial / Williamsburg', Tier=nan)\n",
      "Pandas(Index=1, ProductID='1014', EID=1014.0, PID='P116881', VID='3718TZ', Department='Ceiling Lights', Category='Indoor Ceiling Lights', Type='Semi-Flushmount Lights', _8='Kichler Two-Light Semi-Flush Ceiling Light', Finish1='Bronze / Brown Tones', Treatment=nan, _11=nan, _12='White Tones', _13='Bowl / Dome', Style1='Transitional', Style2='Contemporary / Modern', Style3=nan, Tier=nan)\n",
      "Pandas(Index=2, ProductID='10272', EID=10272.0, PID='P197677', VID='TF1438VB', Department='Ceiling Lights', Category='Pendant Lights', Type='Pendant Lights', _8='Tiffany Pendant', Finish1='Bronze / Brown Tones', Treatment='Oil Rubbed', _11='Chain Hung', _12='Art Glass', _13='Bowl / Dome', Style1='Tiffany', Style2='Art Glass', Style3=nan, Tier=nan)\n",
      "Pandas(Index=3, ProductID='10303', EID=10303.0, PID='P197912', VID='TF1541VB', Department='Ceiling Lights', Category='Mini-Pendant Lights', Type='Mini-Pendant Lights', _8='Tiffany Glass Mini-Pendant Light in Bronze Finish', Finish1='Bronze / Brown Tones', Treatment=nan, _11='Stem Hung', _12='Art Glass', _13='Bowl / Dome', Style1='Tiffany', Style2=nan, Style3=nan, Tier=nan)\n",
      "Pandas(Index=4, ProductID='10350', EID=10350.0, PID='P198042', VID='TF1816VB', Department='Ceiling Lights', Category='Pendant Lights', Type='Pendant Lights', _8='Four-Light Tiffany Pendant', Finish1='Bronze / Brown Tones', Treatment='Antique', _11='Chain Hung', _12='Art Glass', _13='Bowl / Dome', Style1='Tiffany', Style2='Mission / Mackintosh', Style3='Art Glass', Tier=nan)\n",
      "Pandas(Index=5, ProductID='10468', EID=10468.0, PID='P197830', VID='TF6669VB', Department='Lamps', Category='Table Lamps', Type='Table Lamps', _8='Tiffany Table Lamp', Finish1='Bronze / Brown Tones', Treatment='Oil Rubbed', _11=nan, _12='Multi-Color', _13='Hexagon', Style1='Tiffany', Style2='Arts and Crafts / Craftsman', Style3='Mission / Mackintosh', Tier=nan)\n",
      "Pandas(Index=6, ProductID='10499', EID=10499.0, PID='P198035', VID='TF6825CN', Department='Lamps', Category='Table Lamps', Type='Console & Buffet Lamps', _8='Hand-Crafted Agate Table Lamp', Finish1='Bronze / Brown Tones', Treatment=nan, _11=nan, _12='Multi-Color', _13='Bowl / Dome', Style1='Organic', Style2='Tiffany', Style3='Arts and Crafts / Craftsman', Tier=nan)\n",
      "Pandas(Index=7, ProductID='10779', EID=10779.0, PID='P197960', VID='YU8710IB', Department='Wall Lights', Category='Sconces', Type='Sconces', _8='Amber-Shaded Floral Sconce', Finish1='Bronze / Brown Tones', Treatment=nan, _11=nan, _12='Amber Tones', _13='Scalloped', Style1='Organic', Style2=nan, Style3=nan, Tier=nan)\n",
      "Pandas(Index=8, ProductID='11149', EID=11149.0, PID='P1017953', VID='9939KRST', Department='Lamps', Category='Table Lamps', Type='Table Lamps', _8='Table Lamp with Linen Shade', Finish1='Bronze / Brown Tones', Treatment='Hammered', _11=nan, _12='Beige / Cream Tones', _13='Coolie', Style1='Lodge / Rustic / Cabin', Style2='Casual', Style3='Arts and Crafts / Craftsman', Tier=nan)\n",
      "Pandas(Index=9, ProductID='1225', EID=1225.0, PID='P94401', VID='6312NI', Department='Wall Lights', Category='Bathroom Lights', Type='Bathroom Lights', _8='Kichler Two-Light Bathroom Vanity Light', Finish1='Satin Nickel / Satin Chrome', Treatment='Brushed', _11=nan, _12='Clear', _13=nan, Style1='Contemporary / Modern', Style2='Casual', Style3=nan, Tier=nan)\n",
      "Pandas(Index=10, ProductID='1229', EID=1229.0, PID='P94402', VID='6313NI', Department='Wall Lights', Category='Bathroom Lights', Type='Bathroom Lights', _8='Kichler Three-Light Bathroom Light', Finish1='Satin Nickel / Satin Chrome', Treatment='Brushed', _11=nan, _12='Clear', _13=nan, Style1='Contemporary / Modern', Style2='Casual', Style3='Transitional', Tier=nan)\n"
     ]
    }
   ],
   "source": [
    "i=0\n",
    "for row in labels_df.itertuples():\n",
    "    i+=1\n",
    "    print (row)\n",
    "    if i>10:\n",
    "        break"
   ]
  }
 ],
 "metadata": {
  "kernelspec": {
   "display_name": "Python 3",
   "language": "python",
   "name": "python3"
  },
  "language_info": {
   "codemirror_mode": {
    "name": "ipython",
    "version": 3
   },
   "file_extension": ".py",
   "mimetype": "text/x-python",
   "name": "python",
   "nbconvert_exporter": "python",
   "pygments_lexer": "ipython3",
   "version": "3.5.2"
  }
 },
 "nbformat": 4,
 "nbformat_minor": 1
}
