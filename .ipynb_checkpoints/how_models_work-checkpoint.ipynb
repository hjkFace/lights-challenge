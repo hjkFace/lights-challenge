{
 "cells": [
  {
   "cell_type": "code",
   "execution_count": 2,
   "metadata": {
    "collapsed": false
   },
   "outputs": [
    {
     "name": "stderr",
     "output_type": "stream",
     "text": [
      "Using TensorFlow backend.\n"
     ]
    }
   ],
   "source": [
    "from PIL import Image\n",
    "import pandas as pd\n",
    "import numpy as np\n",
    "import matplotlib.pyplot as plt\n",
    "from keras.models import load_model\n",
    "labels_df = pd.read_csv('product_attributes_updated.csv', encoding='utf-8', \n",
    "                    dialect='excel', lineterminator='\\n')"
   ]
  },
  {
   "cell_type": "code",
   "execution_count": 3,
   "metadata": {
    "collapsed": true
   },
   "outputs": [],
   "source": [
    "labels_df = labels_df.drop(labels_df[labels_df.Style1=='Southwestern'].index)\n",
    "labels_df = labels_df.drop(labels_df[labels_df.Style3=='Southwestern'].index)\n",
    "labels_df = labels_df.drop(labels_df[labels_df.Style1=='French Country'].index)\n",
    "labels_df = labels_df.drop(labels_df[labels_df.Style2=='French Country'].index)"
   ]
  },
  {
   "cell_type": "code",
   "execution_count": 4,
   "metadata": {
    "collapsed": false
   },
   "outputs": [
    {
     "name": "stdout",
     "output_type": "stream",
     "text": [
      "true labels\n"
     ]
    },
    {
     "data": {
      "text/html": [
       "<div>\n",
       "<table border=\"1\" class=\"dataframe\">\n",
       "  <thead>\n",
       "    <tr style=\"text-align: right;\">\n",
       "      <th></th>\n",
       "      <th>ProductID</th>\n",
       "      <th>EID</th>\n",
       "      <th>PID</th>\n",
       "      <th>VID</th>\n",
       "      <th>Department</th>\n",
       "      <th>Category</th>\n",
       "      <th>Type</th>\n",
       "      <th>Product Title</th>\n",
       "      <th>Finish1</th>\n",
       "      <th>Treatment</th>\n",
       "      <th>Hanging Method</th>\n",
       "      <th>Shade Color</th>\n",
       "      <th>Shade Shape</th>\n",
       "      <th>Style1</th>\n",
       "      <th>Style2</th>\n",
       "      <th>Style3</th>\n",
       "      <th>Tier</th>\n",
       "    </tr>\n",
       "  </thead>\n",
       "  <tbody>\n",
       "    <tr>\n",
       "      <th>34310</th>\n",
       "      <td>P994212</td>\n",
       "      <td>443578.0</td>\n",
       "      <td>P994212</td>\n",
       "      <td>46017/6RC</td>\n",
       "      <td>Ceiling Lights</td>\n",
       "      <td>Mini-Pendant Lights</td>\n",
       "      <td>Multi-Light Pendants</td>\n",
       "      <td>Multi-Light Pendant Light with Clear Glass and...</td>\n",
       "      <td>Chrome</td>\n",
       "      <td>Polished</td>\n",
       "      <td>Cord Hung</td>\n",
       "      <td>Clear</td>\n",
       "      <td>Oval</td>\n",
       "      <td>Transitional</td>\n",
       "      <td>Contemporary / Modern</td>\n",
       "      <td>NaN</td>\n",
       "      <td>NaN</td>\n",
       "    </tr>\n",
       "  </tbody>\n",
       "</table>\n",
       "</div>"
      ],
      "text/plain": [
       "      ProductID       EID      PID        VID      Department  \\\n",
       "34310   P994212  443578.0  P994212  46017/6RC  Ceiling Lights   \n",
       "\n",
       "                  Category                  Type  \\\n",
       "34310  Mini-Pendant Lights  Multi-Light Pendants   \n",
       "\n",
       "                                           Product Title Finish1 Treatment  \\\n",
       "34310  Multi-Light Pendant Light with Clear Glass and...  Chrome  Polished   \n",
       "\n",
       "      Hanging Method Shade Color Shade Shape        Style1  \\\n",
       "34310      Cord Hung       Clear        Oval  Transitional   \n",
       "\n",
       "                      Style2 Style3  Tier  \n",
       "34310  Contemporary / Modern    NaN   NaN  "
      ]
     },
     "execution_count": 4,
     "metadata": {},
     "output_type": "execute_result"
    }
   ],
   "source": [
    " def image2np_array( filename ) :\n",
    "    img = Image.open( filename )\n",
    "    img.load()\n",
    "    data = np.asarray( img, dtype='uint8' )\n",
    "    return data\n",
    "\n",
    "try:\n",
    "    img = image2np_array('..\\\\ml_150x150\\\\P994212.jpg').reshape(1,150,150,3)\n",
    "except (IOError, ValueError) as e:\n",
    "    print('{0}'.format(e))\n",
    "print ('true labels')\n",
    "labels_df[labels_df['ProductID']=='P994212']"
   ]
  },
  {
   "cell_type": "code",
   "execution_count": 5,
   "metadata": {
    "collapsed": false
   },
   "outputs": [
    {
     "data": {
      "text/plain": [
       "array([[  0.00000000e+00,   9.60795641e-01,   0.00000000e+00,\n",
       "          0.00000000e+00,   0.00000000e+00,   0.00000000e+00,\n",
       "          0.00000000e+00,   0.00000000e+00,   0.00000000e+00,\n",
       "          0.00000000e+00,   1.00000000e+00,   0.00000000e+00,\n",
       "          0.00000000e+00,   0.00000000e+00,   0.00000000e+00,\n",
       "          0.00000000e+00,   0.00000000e+00,   0.00000000e+00,\n",
       "          0.00000000e+00,   0.00000000e+00,   1.31993072e-32,\n",
       "          0.00000000e+00,   0.00000000e+00,   0.00000000e+00,\n",
       "          0.00000000e+00]], dtype=float32)"
      ]
     },
     "execution_count": 5,
     "metadata": {},
     "output_type": "execute_result"
    }
   ],
   "source": [
    "model = load_model('style_classifier.h5')\n",
    "prediction=model.predict(img, batch_size=1)\n",
    "prediction"
   ]
  },
  {
   "cell_type": "code",
   "execution_count": 6,
   "metadata": {
    "collapsed": false
   },
   "outputs": [],
   "source": [
    "columns=pd.get_dummies(labels_df['Style1']).columns\n",
    "prediction_df = pd.DataFrame(data=prediction, columns=columns)"
   ]
  },
  {
   "cell_type": "code",
   "execution_count": 8,
   "metadata": {
    "collapsed": false
   },
   "outputs": [
    {
     "data": {
      "text/html": [
       "<div>\n",
       "<table border=\"1\" class=\"dataframe\">\n",
       "  <thead>\n",
       "    <tr style=\"text-align: right;\">\n",
       "      <th></th>\n",
       "      <th>Art Glass</th>\n",
       "      <th>Crystal</th>\n",
       "      <th>Traditional</th>\n",
       "    </tr>\n",
       "  </thead>\n",
       "  <tbody>\n",
       "    <tr>\n",
       "      <th>0</th>\n",
       "      <td>0.960796</td>\n",
       "      <td>1.0</td>\n",
       "      <td>1.319931e-32</td>\n",
       "    </tr>\n",
       "  </tbody>\n",
       "</table>\n",
       "</div>"
      ],
      "text/plain": [
       "   Art Glass  Crystal   Traditional\n",
       "0   0.960796      1.0  1.319931e-32"
      ]
     },
     "execution_count": 8,
     "metadata": {},
     "output_type": "execute_result"
    }
   ],
   "source": [
    "prediction_df.loc[:, (prediction_df != 0).any(axis=0)]"
   ]
  }
 ],
 "metadata": {
  "kernelspec": {
   "display_name": "Python 3",
   "language": "python",
   "name": "python3"
  },
  "language_info": {
   "codemirror_mode": {
    "name": "ipython",
    "version": 3
   },
   "file_extension": ".py",
   "mimetype": "text/x-python",
   "name": "python",
   "nbconvert_exporter": "python",
   "pygments_lexer": "ipython3",
   "version": "3.5.2"
  }
 },
 "nbformat": 4,
 "nbformat_minor": 1
}
