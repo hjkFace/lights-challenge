{
 "cells": [
  {
   "cell_type": "code",
   "execution_count": 1,
   "metadata": {},
   "outputs": [
    {
     "name": "stderr",
     "output_type": "stream",
     "text": [
      "Using TensorFlow backend.\n"
     ]
    }
   ],
   "source": [
    "from PIL import Image\n",
    "import pandas as pd\n",
    "import numpy as np\n",
    "import matplotlib.pyplot as plt\n",
    "from keras.models import load_model\n",
    "labels_df = pd.read_csv('product_attributes_updated.csv', encoding='utf-8', \n",
    "                    dialect='excel', lineterminator='\\n')"
   ]
  },
  {
   "cell_type": "code",
   "execution_count": 2,
   "metadata": {
    "collapsed": true
   },
   "outputs": [],
   "source": [
    "labels_df = labels_df.drop(labels_df[labels_df.Style1=='Southwestern'].index)\n",
    "labels_df = labels_df.drop(labels_df[labels_df.Style3=='Southwestern'].index)\n",
    "labels_df = labels_df.drop(labels_df[labels_df.Style1=='French Country'].index)\n",
    "labels_df = labels_df.drop(labels_df[labels_df.Style2=='French Country'].index)"
   ]
  },
  {
   "cell_type": "code",
   "execution_count": 3,
   "metadata": {
    "scrolled": true
   },
   "outputs": [
    {
     "name": "stdout",
     "output_type": "stream",
     "text": [
      "true labels\n"
     ]
    },
    {
     "data": {
      "text/html": [
       "<div>\n",
       "<style>\n",
       "    .dataframe thead tr:only-child th {\n",
       "        text-align: right;\n",
       "    }\n",
       "\n",
       "    .dataframe thead th {\n",
       "        text-align: left;\n",
       "    }\n",
       "\n",
       "    .dataframe tbody tr th {\n",
       "        vertical-align: top;\n",
       "    }\n",
       "</style>\n",
       "<table border=\"1\" class=\"dataframe\">\n",
       "  <thead>\n",
       "    <tr style=\"text-align: right;\">\n",
       "      <th></th>\n",
       "      <th>ProductID</th>\n",
       "      <th>EID</th>\n",
       "      <th>PID</th>\n",
       "      <th>VID</th>\n",
       "      <th>Department</th>\n",
       "      <th>Category</th>\n",
       "      <th>Type</th>\n",
       "      <th>Product Title</th>\n",
       "      <th>Finish1</th>\n",
       "      <th>Treatment</th>\n",
       "      <th>Hanging Method</th>\n",
       "      <th>Shade Color</th>\n",
       "      <th>Shade Shape</th>\n",
       "      <th>Style1</th>\n",
       "      <th>Style2</th>\n",
       "      <th>Style3</th>\n",
       "      <th>Tier</th>\n",
       "    </tr>\n",
       "  </thead>\n",
       "  <tbody>\n",
       "    <tr>\n",
       "      <th>5710</th>\n",
       "      <td>P1017024</td>\n",
       "      <td>NaN</td>\n",
       "      <td>P1017024</td>\n",
       "      <td>CL990</td>\n",
       "      <td>Lamps</td>\n",
       "      <td>Table Lamps</td>\n",
       "      <td>Table Lamps</td>\n",
       "      <td>Robert Abbey Harvey Table Lamp</td>\n",
       "      <td>Green Tones</td>\n",
       "      <td>Polished</td>\n",
       "      <td>NaN</td>\n",
       "      <td>White Tones</td>\n",
       "      <td>Drum</td>\n",
       "      <td>Contemporary / Modern</td>\n",
       "      <td>NaN</td>\n",
       "      <td>NaN</td>\n",
       "      <td>NaN</td>\n",
       "    </tr>\n",
       "  </tbody>\n",
       "</table>\n",
       "</div>"
      ],
      "text/plain": [
       "     ProductID  EID       PID    VID Department     Category         Type  \\\n",
       "5710  P1017024  NaN  P1017024  CL990      Lamps  Table Lamps  Table Lamps   \n",
       "\n",
       "                       Product Title      Finish1 Treatment Hanging Method  \\\n",
       "5710  Robert Abbey Harvey Table Lamp  Green Tones  Polished            NaN   \n",
       "\n",
       "      Shade Color Shade Shape                 Style1 Style2 Style3  Tier  \n",
       "5710  White Tones        Drum  Contemporary / Modern    NaN    NaN   NaN  "
      ]
     },
     "execution_count": 3,
     "metadata": {},
     "output_type": "execute_result"
    }
   ],
   "source": [
    " def image2np_array( filename ) :\n",
    "    img = Image.open( filename )\n",
    "    img.load()\n",
    "    data = np.asarray( img, dtype='uint8' )\n",
    "    return data\n",
    "\n",
    "Random_Product=labels_df['ProductID'].sample().iloc[0]\n",
    "\n",
    "try:\n",
    "    img = image2np_array('..\\\\ml_150x150\\\\P994212.jpg').reshape(1,150,150,3)\n",
    "except (IOError, ValueError) as e:\n",
    "    print('{0}'.format(e))\n",
    "try:\n",
    "    img_m = image2np_array('..\\\\ml_150x150_m\\\\P994212.jpg').reshape(1,150,150,1)\n",
    "except (IOError, ValueError) as e:\n",
    "    print('{0}'.format(e))\n",
    "print ('true labels')\n",
    "labels_df[labels_df['ProductID']==Random_Product]"
   ]
  },
  {
   "cell_type": "code",
   "execution_count": 4,
   "metadata": {
    "collapsed": true
   },
   "outputs": [],
   "source": [
    "def delete_rare_records(treshold,column_name):\n",
    "    global labels_df\n",
    "    e = labels_df[column_name].value_counts()\n",
    "    return labels_df[labels_df[column_name].isin(e[e>treshold].index)]"
   ]
  },
  {
   "cell_type": "code",
   "execution_count": 5,
   "metadata": {},
   "outputs": [
    {
     "data": {
      "text/html": [
       "<div>\n",
       "<style>\n",
       "    .dataframe thead tr:only-child th {\n",
       "        text-align: right;\n",
       "    }\n",
       "\n",
       "    .dataframe thead th {\n",
       "        text-align: left;\n",
       "    }\n",
       "\n",
       "    .dataframe tbody tr th {\n",
       "        vertical-align: top;\n",
       "    }\n",
       "</style>\n",
       "<table border=\"1\" class=\"dataframe\">\n",
       "  <thead>\n",
       "    <tr style=\"text-align: right;\">\n",
       "      <th></th>\n",
       "      <th>Art Glass</th>\n",
       "      <th>Contemporary / Modern</th>\n",
       "    </tr>\n",
       "  </thead>\n",
       "  <tbody>\n",
       "    <tr>\n",
       "      <th>0</th>\n",
       "      <td>0.431403</td>\n",
       "      <td>0.910101</td>\n",
       "    </tr>\n",
       "  </tbody>\n",
       "</table>\n",
       "</div>"
      ],
      "text/plain": [
       "   Art Glass  Contemporary / Modern\n",
       "0   0.431403               0.910101"
      ]
     },
     "execution_count": 5,
     "metadata": {},
     "output_type": "execute_result"
    }
   ],
   "source": [
    "style_keywords=['Bronze','Brown','Satin','Chrome','Black','Brass','Gold','Polished','White','Silver','Copper','Nickel','Sconces','Bathroom','Outdoor','Pendant','Mini-Pendant','Chandeliers','Table','Flushmount','Semi-Flushmount','Multi-Light','Post','Swing','Mini-Chandeliers','Hanging','Island','Floor','Crystal','Wall','Sconce','Lamp']\n",
    "style_dummy=[0]*(len(style_keywords))\n",
    "for x in style_keywords:\n",
    "    if x in labels_df[labels_df['ProductID']==Random_Product]['Product Title'].values[0].split(): \n",
    "        style_dummy[style_keywords.index(x)]=1\n",
    "\n",
    "style_model = load_model('style_classifier.h5')\n",
    "style_prediction=style_model.predict([img,np.array([style_dummy])], batch_size=1)\n",
    "\n",
    "style_columns=pd.get_dummies(labels_df['Style1']).columns\n",
    "style_prediction_df = pd.DataFrame(data=style_prediction, columns=style_columns)\n",
    "style_prediction_df.loc[:, (style_prediction_df > 0.3).any(axis=0)]"
   ]
  },
  {
   "cell_type": "code",
   "execution_count": 6,
   "metadata": {},
   "outputs": [
    {
     "data": {
      "text/html": [
       "<div>\n",
       "<style>\n",
       "    .dataframe thead tr:only-child th {\n",
       "        text-align: right;\n",
       "    }\n",
       "\n",
       "    .dataframe thead th {\n",
       "        text-align: left;\n",
       "    }\n",
       "\n",
       "    .dataframe tbody tr th {\n",
       "        vertical-align: top;\n",
       "    }\n",
       "</style>\n",
       "<table border=\"1\" class=\"dataframe\">\n",
       "  <thead>\n",
       "    <tr style=\"text-align: right;\">\n",
       "      <th></th>\n",
       "    </tr>\n",
       "  </thead>\n",
       "  <tbody>\n",
       "    <tr>\n",
       "      <th>0</th>\n",
       "    </tr>\n",
       "  </tbody>\n",
       "</table>\n",
       "</div>"
      ],
      "text/plain": [
       "Empty DataFrame\n",
       "Columns: []\n",
       "Index: [0]"
      ]
     },
     "execution_count": 6,
     "metadata": {},
     "output_type": "execute_result"
    }
   ],
   "source": [
    "treatment_keywords=['Bronze','Brown','Satin','Polished','Brushed','Antique','Oil','Matte','Patina','Textured','Wall','Sconce','Lamp','Nickel']\n",
    "treatment_dummy=[0]*(len(treatment_keywords))\n",
    "for x in treatment_keywords:\n",
    "    if x in labels_df[labels_df['ProductID']==Random_Product]['Product Title'].values[0].split(): \n",
    "        treatment_dummy[treatment_keywords.index(x)]=1\n",
    "\n",
    "treatment_model = load_model('Treatment_classifier.h5')\n",
    "treatment_prediction=treatment_model.predict([img,np.array([treatment_dummy])], batch_size=1)\n",
    "\n",
    "treatment_columns=pd.get_dummies(delete_rare_records(treshold=200,column_name='Treatment')['Treatment']).columns\n",
    "treatment_prediction_df = pd.DataFrame(data=treatment_prediction, columns=treatment_columns)\n",
    "treatment_prediction_df.loc[:, (treatment_prediction_df > 0.3).any(axis=0)]\n"
   ]
  },
  {
   "cell_type": "code",
   "execution_count": 7,
   "metadata": {
    "scrolled": true
   },
   "outputs": [
    {
     "data": {
      "text/html": [
       "<div>\n",
       "<style>\n",
       "    .dataframe thead tr:only-child th {\n",
       "        text-align: right;\n",
       "    }\n",
       "\n",
       "    .dataframe thead th {\n",
       "        text-align: left;\n",
       "    }\n",
       "\n",
       "    .dataframe tbody tr th {\n",
       "        vertical-align: top;\n",
       "    }\n",
       "</style>\n",
       "<table border=\"1\" class=\"dataframe\">\n",
       "  <thead>\n",
       "    <tr style=\"text-align: right;\">\n",
       "      <th></th>\n",
       "      <th>Table Lamps</th>\n",
       "    </tr>\n",
       "  </thead>\n",
       "  <tbody>\n",
       "    <tr>\n",
       "      <th>0</th>\n",
       "      <td>0.851125</td>\n",
       "    </tr>\n",
       "  </tbody>\n",
       "</table>\n",
       "</div>"
      ],
      "text/plain": [
       "   Table Lamps\n",
       "0     0.851125"
      ]
     },
     "execution_count": 7,
     "metadata": {},
     "output_type": "execute_result"
    }
   ],
   "source": [
    "type_keywords=['Sconces','Bathroom','Outdoor','Pendant','Mini-Pendant','Chandeliers','Table','Flushmount','Semi-Flushmount','Multi-Light','Post','Swing','Mini-Chandeliers','Hanging','Island','Floor','Crystal','Wall','Sconce','Lamp']\n",
    "type_dummy=[0]*(len(type_keywords))\n",
    "for x in type_keywords:\n",
    "    if x in labels_df[labels_df['ProductID']==Random_Product]['Product Title'].values[0].split(): \n",
    "        type_dummy[type_keywords.index(x)]=1\n",
    "\n",
    "type_model = load_model('type_classifier.h5')\n",
    "type_prediction=type_model.predict([img,np.array([type_dummy])], batch_size=1)\n",
    "\n",
    "type_columns=pd.get_dummies(delete_rare_records(treshold=300,column_name='Type')['Type']).columns\n",
    "type_prediction_df = pd.DataFrame(data=type_prediction, columns=type_columns)\n",
    "type_prediction_df.loc[:, (type_prediction_df > 0.3).any(axis=0)]"
   ]
  },
  {
   "cell_type": "code",
   "execution_count": 8,
   "metadata": {},
   "outputs": [
    {
     "data": {
      "text/html": [
       "<div>\n",
       "<style>\n",
       "    .dataframe thead tr:only-child th {\n",
       "        text-align: right;\n",
       "    }\n",
       "\n",
       "    .dataframe thead th {\n",
       "        text-align: left;\n",
       "    }\n",
       "\n",
       "    .dataframe tbody tr th {\n",
       "        vertical-align: top;\n",
       "    }\n",
       "</style>\n",
       "<table border=\"1\" class=\"dataframe\">\n",
       "  <thead>\n",
       "    <tr style=\"text-align: right;\">\n",
       "      <th></th>\n",
       "      <th>Bronze / Brown Tones</th>\n",
       "    </tr>\n",
       "  </thead>\n",
       "  <tbody>\n",
       "    <tr>\n",
       "      <th>0</th>\n",
       "      <td>0.343767</td>\n",
       "    </tr>\n",
       "  </tbody>\n",
       "</table>\n",
       "</div>"
      ],
      "text/plain": [
       "   Bronze / Brown Tones\n",
       "0              0.343767"
      ]
     },
     "execution_count": 8,
     "metadata": {},
     "output_type": "execute_result"
    }
   ],
   "source": [
    "finish_keywords=['Bronze','Brown','Satin','Chrome','Black','Brass','Gold','Polished','White','Silver','Copper','Wall','Sconce','Lamp','Nickel']\n",
    "finish_dummy=[0]*(len(finish_keywords))\n",
    "for x in finish_keywords:\n",
    "    if x in labels_df[labels_df['ProductID']==Random_Product]['Product Title'].values[0].split(): \n",
    "        finish_dummy[finish_keywords.index(x)]=1\n",
    "\n",
    "finish_model = load_model('Finish1_classifier.h5')\n",
    "finish_prediction=finish_model.predict([img,np.array([finish_dummy])], batch_size=1)\n",
    "\n",
    "finish_columns=pd.get_dummies(delete_rare_records(treshold=300,column_name='Finish1')['Finish1']).columns\n",
    "finish_prediction_df = pd.DataFrame(data=finish_prediction, columns=finish_columns)\n",
    "finish_prediction_df.loc[:, (finish_prediction_df > 0.3).any(axis=0)]"
   ]
  },
  {
   "cell_type": "code",
   "execution_count": 9,
   "metadata": {},
   "outputs": [
    {
     "data": {
      "text/html": [
       "<div>\n",
       "<style>\n",
       "    .dataframe thead tr:only-child th {\n",
       "        text-align: right;\n",
       "    }\n",
       "\n",
       "    .dataframe thead th {\n",
       "        text-align: left;\n",
       "    }\n",
       "\n",
       "    .dataframe tbody tr th {\n",
       "        vertical-align: top;\n",
       "    }\n",
       "</style>\n",
       "<table border=\"1\" class=\"dataframe\">\n",
       "  <thead>\n",
       "    <tr style=\"text-align: right;\">\n",
       "      <th></th>\n",
       "      <th>White Tones</th>\n",
       "    </tr>\n",
       "  </thead>\n",
       "  <tbody>\n",
       "    <tr>\n",
       "      <th>0</th>\n",
       "      <td>0.427797</td>\n",
       "    </tr>\n",
       "  </tbody>\n",
       "</table>\n",
       "</div>"
      ],
      "text/plain": [
       "   White Tones\n",
       "0     0.427797"
      ]
     },
     "execution_count": 9,
     "metadata": {},
     "output_type": "execute_result"
    }
   ],
   "source": [
    "shade_color_keywords=['White','Clear','Beige','Cream','None','Brown','Amber','Alabaster','Art','Multi-Color','Bronze','Red','Black','Blue','Satin','Brass','Wall','Sconce','Lamp','Nickel']\n",
    "shade_color_dummy=[0]*(len(shade_color_keywords))\n",
    "for x in shade_color_keywords:\n",
    "    if x in labels_df[labels_df['ProductID']==Random_Product]['Product Title'].values[0].split(): \n",
    "        shade_color_dummy[shade_color_keywords.index(x)]=1\n",
    "\n",
    "        \n",
    "shade_color_model = load_model('Shade_Color_classifier.h5')\n",
    "shade_color_prediction=shade_color_model.predict([img,np.array([shade_color_dummy])], batch_size=1)\n",
    "\n",
    "shade_color_columns=pd.get_dummies(delete_rare_records(treshold=300,column_name='Shade Color')['Shade Color']).columns\n",
    "shade_color_prediction_df = pd.DataFrame(data=shade_color_prediction, columns=shade_color_columns)\n",
    "shade_color_prediction_df.loc[:, (shade_color_prediction_df > 0.3).any(axis=0)]"
   ]
  },
  {
   "cell_type": "code",
   "execution_count": 10,
   "metadata": {},
   "outputs": [
    {
     "data": {
      "text/html": [
       "<div>\n",
       "<style>\n",
       "    .dataframe thead tr:only-child th {\n",
       "        text-align: right;\n",
       "    }\n",
       "\n",
       "    .dataframe thead th {\n",
       "        text-align: left;\n",
       "    }\n",
       "\n",
       "    .dataframe tbody tr th {\n",
       "        vertical-align: top;\n",
       "    }\n",
       "</style>\n",
       "<table border=\"1\" class=\"dataframe\">\n",
       "  <thead>\n",
       "    <tr style=\"text-align: right;\">\n",
       "      <th></th>\n",
       "      <th>Bowl / Dome</th>\n",
       "    </tr>\n",
       "  </thead>\n",
       "  <tbody>\n",
       "    <tr>\n",
       "      <th>0</th>\n",
       "      <td>0.640923</td>\n",
       "    </tr>\n",
       "  </tbody>\n",
       "</table>\n",
       "</div>"
      ],
      "text/plain": [
       "   Bowl / Dome\n",
       "0     0.640923"
      ]
     },
     "execution_count": 10,
     "metadata": {},
     "output_type": "execute_result"
    }
   ],
   "source": [
    "shade_shape_keywords=['Bowl','Dome','Cylindrical','Bell','Drum','Rectangle','Square','Conical','Oval','Empire','Coolie','Globe','Wall','Sconce','Lamp']\n",
    "shade_shape_dummy=[0]*(len(shade_shape_keywords))\n",
    "for x in shade_shape_keywords:\n",
    "    if x in labels_df[labels_df['ProductID']==Random_Product]['Product Title'].values[0].split(): \n",
    "        shade_shape_dummy[shade_shape_keywords.index(x)]=1\n",
    "\n",
    "\n",
    "shade_shape_model = load_model('Shade_Shape_classifier.h5')\n",
    "shade_shape_prediction=shade_shape_model.predict([img_m,np.array([shade_shape_dummy])], batch_size=1)\n",
    "\n",
    "shade_shape_columns=pd.get_dummies(delete_rare_records(treshold=200,column_name='Shade Shape')['Shade Shape']).columns\n",
    "shade_shape_prediction_df = pd.DataFrame(data=shade_shape_prediction, columns=shade_shape_columns)\n",
    "shade_shape_prediction_df.loc[:, (shade_shape_prediction_df > 0.3).any(axis=0)]"
   ]
  },
  {
   "cell_type": "code",
   "execution_count": 14,
   "metadata": {},
   "outputs": [
    {
     "data": {
      "text/html": [
       "<div>\n",
       "<style>\n",
       "    .dataframe thead tr:only-child th {\n",
       "        text-align: right;\n",
       "    }\n",
       "\n",
       "    .dataframe thead th {\n",
       "        text-align: left;\n",
       "    }\n",
       "\n",
       "    .dataframe tbody tr th {\n",
       "        vertical-align: top;\n",
       "    }\n",
       "</style>\n",
       "<table border=\"1\" class=\"dataframe\">\n",
       "  <thead>\n",
       "    <tr style=\"text-align: right;\">\n",
       "      <th></th>\n",
       "      <th>Cord Hung</th>\n",
       "    </tr>\n",
       "  </thead>\n",
       "  <tbody>\n",
       "    <tr>\n",
       "      <th>0</th>\n",
       "      <td>0.99962</td>\n",
       "    </tr>\n",
       "  </tbody>\n",
       "</table>\n",
       "</div>"
      ],
      "text/plain": [
       "   Cord Hung\n",
       "0    0.99962"
      ]
     },
     "execution_count": 14,
     "metadata": {},
     "output_type": "execute_result"
    }
   ],
   "source": [
    "hanging_metod_keywords=['Chain','Stem','Cord','Cable','Combination','Wall','Sconce','Lamp']\n",
    "hanging_metod_dummy=[0]*(len(hanging_metod_keywords))\n",
    "for x in hanging_metod_keywords:\n",
    "    if x in labels_df[labels_df['ProductID']==Random_Product]['Product Title'].values[0].split(): \n",
    "        hanging_metod_dummy[hanging_metod_keywords.index(x)]=1\n",
    "\n",
    "\n",
    "hanging_metod_model = load_model('Hanging_metod_classifier.h5')\n",
    "hanging_metod_prediction=hanging_metod_model.predict([img_m,np.array([hanging_metod_dummy])], batch_size=1)\n",
    "\n",
    "hanging_metod_columns=pd.get_dummies(labels_df['Hanging Method']).columns\n",
    "hanging_metod_prediction_df = pd.DataFrame(data=hanging_metod_prediction, columns=hanging_metod_columns)\n",
    "hanging_metod_prediction_df.loc[:, (hanging_metod_prediction_df > 0.3).any(axis=0)]"
   ]
  },
  {
   "cell_type": "code",
   "execution_count": 15,
   "metadata": {},
   "outputs": [
    {
     "data": {
      "text/html": [
       "<div>\n",
       "<style>\n",
       "    .dataframe thead tr:only-child th {\n",
       "        text-align: right;\n",
       "    }\n",
       "\n",
       "    .dataframe thead th {\n",
       "        text-align: left;\n",
       "    }\n",
       "\n",
       "    .dataframe tbody tr th {\n",
       "        vertical-align: top;\n",
       "    }\n",
       "</style>\n",
       "<table border=\"1\" class=\"dataframe\">\n",
       "  <thead>\n",
       "    <tr style=\"text-align: right;\">\n",
       "      <th></th>\n",
       "      <th>1.0</th>\n",
       "    </tr>\n",
       "  </thead>\n",
       "  <tbody>\n",
       "    <tr>\n",
       "      <th>0</th>\n",
       "      <td>1.0</td>\n",
       "    </tr>\n",
       "  </tbody>\n",
       "</table>\n",
       "</div>"
      ],
      "text/plain": [
       "   1.0\n",
       "0  1.0"
      ]
     },
     "execution_count": 15,
     "metadata": {},
     "output_type": "execute_result"
    }
   ],
   "source": [
    "tier_keywords=['Bronze','Brown','Satin','Chrome','Black','Brass','Gold','Polished','White','Silver','Copper','Wall','Sconce','Lamp','Nickel']\n",
    "tier_dummy=[0]*(len(tier_keywords))\n",
    "for x in tier_keywords:\n",
    "    if x in labels_df[labels_df['ProductID']==Random_Product]['Product Title'].values[0].split(): \n",
    "        tier_dummy[tier_keywords.index(x)]=1\n",
    "\n",
    "tier_model = load_model('Tier_classifier.h5')\n",
    "tier_prediction=tier_model.predict(img_m, batch_size=1)\n",
    "\n",
    "tier_columns=pd.get_dummies(labels_df['Tier']).columns\n",
    "tier_prediction_df = pd.DataFrame(data=tier_prediction, columns=tier_columns)\n",
    "tier_prediction_df.loc[:, (tier_prediction_df > 0.3).any(axis=0)]"
   ]
  }
 ],
 "metadata": {
  "kernelspec": {
   "display_name": "Python 3",
   "language": "python",
   "name": "python3"
  },
  "language_info": {
   "codemirror_mode": {
    "name": "ipython",
    "version": 3
   },
   "file_extension": ".py",
   "mimetype": "text/x-python",
   "name": "python",
   "nbconvert_exporter": "python",
   "pygments_lexer": "ipython3",
   "version": "3.5.3"
  }
 },
 "nbformat": 4,
 "nbformat_minor": 1
}
