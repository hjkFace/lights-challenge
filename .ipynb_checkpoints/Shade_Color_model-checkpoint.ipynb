{
 "cells": [
  {
   "cell_type": "code",
   "execution_count": 1,
   "metadata": {},
   "outputs": [
    {
     "name": "stderr",
     "output_type": "stream",
     "text": [
      "Using TensorFlow backend.\n"
     ]
    }
   ],
   "source": [
    "from PIL import Image\n",
    "import pandas as pd\n",
    "import numpy as np\n",
    "import matplotlib.pyplot as plt\n",
    "\n",
    "seed=3\n",
    "np.random.seed(seed)\n",
    "from keras.preprocessing.image import ImageDataGenerator\n",
    "from keras.models import Sequential\n",
    "from keras.layers import Conv2D, MaxPooling2D\n",
    "from keras.layers import Activation, Dropout, Flatten, Dense"
   ]
  },
  {
   "cell_type": "code",
   "execution_count": 2,
   "metadata": {
    "collapsed": true
   },
   "outputs": [],
   "source": [
    "labels_df = pd.read_csv('product_attributes_updated.csv', encoding='utf-8', \n",
    "                    dialect='excel', lineterminator='\\n')"
   ]
  },
  {
   "cell_type": "code",
   "execution_count": 3,
   "metadata": {
    "collapsed": true
   },
   "outputs": [
    {
     "data": {
      "image/png": "[encoded data removed]",
      "text/plain": [
       "<matplotlib.figure.Figure at 0x1e27b554f60>"
      ]
     },
     "metadata": {},
     "output_type": "display_data"
    }
   ],
   "source": [
    "for ColumnName in ['Shade Color']:\n",
    "    labels_df[ColumnName].value_counts().plot(kind=\"bar\")\n",
    "    plt.show()"
   ]
  },
  {
   "cell_type": "code",
   "execution_count": 4,
   "metadata": {
    "collapsed": true
   },
   "outputs": [],
   "source": [
    " def image2np_array( infilename ) :\n",
    "    img = Image.open( infilename )\n",
    "    img.load()\n",
    "    data = np.asarray( img, dtype=\"int32\" )\n",
    "    return data\n",
    "\n",
    "x_train_list=[]\n",
    "y_train_list=[]\n",
    "\n",
    "one_hot=pd.get_dummies(labels_df['Shade Color'])\n",
    "\n",
    "for row in labels_df.itertuples():\n",
    "    if pd.notnull(row[12]):\n",
    "        try:\n",
    "            img = image2np_array('..\\\\ml_150x150\\\\'+row[1]+'.jpg').reshape(150,150,3)\n",
    "        except IOError:\n",
    "            continue\n",
    "        x_train_list.append(img)\n",
    "        y_train_list.append(one_hot.loc[row[0],:].values)"
   ]
  },
  {
   "cell_type": "code",
   "execution_count": 5,
   "metadata": {
    "collapsed": true
   },
   "outputs": [],
   "source": [
    "x_train=np.array(x_train_list)\n",
    "y_train=np.array(y_train_list)\n",
    "len(y_train)==len(x_train)\n",
    "n_of_training_samples=int(len(x_train)*0.8)\n",
    "x_validation=x_train[n_of_training_samples:]\n",
    "y_validation=y_train[n_of_training_samples:]\n",
    "x_train=x_train[:n_of_training_samples]\n",
    "y_train=y_train[:n_of_training_samples]"
   ]
  },
  {
   "cell_type": "code",
   "execution_count": 8,
   "metadata": {
    "collapsed": true
   },
   "outputs": [],
   "source": [
    "epochs = 15\n",
    "batch_size =10\n",
    "\n",
    "input_shape = (150, 150, 3)\n",
    "\n",
    "model = Sequential()\n",
    "model.add(Conv2D(32, (3, 3), input_shape=input_shape))\n",
    "model.add(Activation('relu'))\n",
    "model.add(MaxPooling2D(pool_size=(2, 2)))\n",
    "\n",
    "model.add(Conv2D(32, (3, 3)))\n",
    "model.add(Activation('relu'))\n",
    "model.add(MaxPooling2D(pool_size=(2, 2)))\n",
    "\n",
    "model.add(Conv2D(64, (3, 3)))\n",
    "model.add(Activation('relu'))\n",
    "model.add(MaxPooling2D(pool_size=(2, 2)))\n",
    "\n",
    "model.add(Flatten())\n",
    "model.add(Dense(64))\n",
    "model.add(Activation('relu'))\n",
    "model.add(Dropout(0.5,seed=seed))\n",
    "model.add(Dense(33))\n",
    "model.add(Activation('softmax'))\n",
    "\n",
    "model.compile(loss='categorical_crossentropy',\n",
    "              optimizer='Adam',\n",
    "metrics=['accuracy'])"
   ]
  },
  {
   "cell_type": "code",
   "execution_count": 10,
   "metadata": {},
   "outputs": [
    {
     "name": "stdout",
     "output_type": "stream",
     "text": [
      "Epoch 1/15\n",
      "2667/2666 [==============================] - 142s - loss: 2.1839 - acc: 0.4201 - val_loss: 10.8200 - val_acc: 0.2828\n",
      "Epoch 2/15\n",
      "2667/2666 [==============================] - 129s - loss: 1.9006 - acc: 0.4680 - val_loss: 12.2572 - val_acc: 0.2274\n",
      "Epoch 3/15\n",
      "2667/2666 [==============================] - 128s - loss: 1.7737 - acc: 0.4943 - val_loss: 12.2656 - val_acc: 0.2176\n",
      "Epoch 4/15\n",
      "2667/2666 [==============================] - 128s - loss: 1.6908 - acc: 0.5137 - val_loss: 9.6981 - val_acc: 0.3845\n",
      "Epoch 5/15\n",
      "2667/2666 [==============================] - 128s - loss: 1.6323 - acc: 0.5310 - val_loss: 11.3538 - val_acc: 0.2819\n",
      "Epoch 6/15\n",
      "2667/2666 [==============================] - 128s - loss: 1.5787 - acc: 0.5391 - val_loss: 12.1372 - val_acc: 0.2347\n",
      "Epoch 7/15\n",
      "2667/2666 [==============================] - 127s - loss: 1.5306 - acc: 0.5493 - val_loss: 11.1293 - val_acc: 0.3004\n",
      "Epoch 8/15\n",
      "2667/2666 [==============================] - 127s - loss: 1.4933 - acc: 0.5633 - val_loss: 11.8036 - val_acc: 0.2533\n",
      "Epoch 9/15\n",
      "2667/2666 [==============================] - 126s - loss: 1.4671 - acc: 0.5687 - val_loss: 10.8056 - val_acc: 0.3202\n",
      "Epoch 10/15\n",
      "2667/2666 [==============================] - 124s - loss: 1.4479 - acc: 0.5742 - val_loss: 10.1607 - val_acc: 0.3593\n",
      "Epoch 11/15\n",
      "2667/2666 [==============================] - 125s - loss: 1.4384 - acc: 0.5779 - val_loss: 9.7137 - val_acc: 0.3877\n",
      "Epoch 12/15\n",
      "2667/2666 [==============================] - 128s - loss: 1.4099 - acc: 0.5820 - val_loss: 11.5454 - val_acc: 0.2702\n",
      "Epoch 13/15\n",
      "2667/2666 [==============================] - 128s - loss: 1.4003 - acc: 0.5848 - val_loss: 10.5152 - val_acc: 0.3394\n",
      "Epoch 14/15\n",
      "2667/2666 [==============================] - 128s - loss: 1.3768 - acc: 0.5884 - val_loss: 9.6984 - val_acc: 0.3917\n",
      "Epoch 15/15\n",
      "2667/2666 [==============================] - 128s - loss: 1.6667 - acc: 0.5338 - val_loss: 9.8929 - val_acc: 0.3833\n"
     ]
    },
    {
     "data": {
      "text/plain": [
       "<keras.callbacks.History at 0x1eb4b8d3198>"
      ]
     },
     "execution_count": 10,
     "metadata": {},
     "output_type": "execute_result"
    }
   ],
   "source": [
    "train_datagen = ImageDataGenerator(\n",
    "    rescale=1. / 255,\n",
    "    zoom_range=0.2,\n",
    "    horizontal_flip=True)\n",
    "\n",
    "model.fit_generator(train_datagen.flow(x_train, y_train, batch_size=batch_size),\n",
    "                    validation_data=(x_validation,y_validation),\n",
    "                    steps_per_epoch=len(x_train) / batch_size, epochs=epochs)"
   ]
  },
  {
   "cell_type": "code",
   "execution_count": 11,
   "metadata": {
    "collapsed": true
   },
   "outputs": [],
   "source": [
    "model.save('Shade_Color_classifier.h5')"
   ]
  }
 ],
 "metadata": {
  "kernelspec": {
   "display_name": "Python 3",
   "language": "python",
   "name": "python3"
  },
  "language_info": {
   "codemirror_mode": {
    "name": "ipython",
    "version": 3
   },
   "file_extension": ".py",
   "mimetype": "text/x-python",
   "name": "python",
   "nbconvert_exporter": "python",
   "pygments_lexer": "ipython3",
   "version": "3.5.3"
  }
 },
 "nbformat": 4,
 "nbformat_minor": 1
}
