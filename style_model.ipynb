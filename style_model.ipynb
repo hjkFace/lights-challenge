{
 "cells": [
  {
   "cell_type": "code",
   "execution_count": 29,
   "metadata": {},
   "outputs": [],
   "source": [
    "from PIL import Image\n",
    "import pandas as pd\n",
    "import numpy as np\n",
    "import matplotlib.pyplot as plt\n",
    "\n",
    "seed=3\n",
    "np.random.seed(seed)\n",
    "from keras.preprocessing.image import ImageDataGenerator\n",
    "from keras.models import Sequential\n",
    "from keras.layers import Conv2D, MaxPooling2D\n",
    "from keras.layers import Activation, Dropout, Flatten, Dense\n",
    "from keras.optimizers import SGD\n",
    "from keras import backend as K"
   ]
  },
  {
   "cell_type": "code",
   "execution_count": 2,
   "metadata": {
    "collapsed": true
   },
   "outputs": [],
   "source": [
    "labels_df = pd.read_csv('product_attributes_updated.csv', encoding='utf-8', \n",
    "                    dialect='excel', lineterminator='\\n')"
   ]
  },
  {
   "cell_type": "code",
   "execution_count": 3,
   "metadata": {
    "collapsed": true
   },
   "outputs": [],
   "source": [
    "labels_df = labels_df.drop(labels_df[labels_df.Style1=='Southwestern'].index)\n",
    "labels_df = labels_df.drop(labels_df[labels_df.Style3=='Southwestern'].index)\n",
    "labels_df = labels_df.drop(labels_df[labels_df.Style1=='French Country'].index)\n",
    "labels_df = labels_df.drop(labels_df[labels_df.Style2=='French Country'].index)"
   ]
  },
  {
   "cell_type": "code",
   "execution_count": null,
   "metadata": {
    "collapsed": true
   },
   "outputs": [],
   "source": [
    "for ColumnName in ['Style1','Style2','Style3']:\n",
    "    labels_df[ColumnName].value_counts().plot(kind=\"bar\")\n",
    "    plt.show()"
   ]
  },
  {
   "cell_type": "code",
   "execution_count": 4,
   "metadata": {
    "collapsed": true
   },
   "outputs": [
    {
     "data": {
      "text/plain": [
       "Art Deco                        0\n",
       "Art Glass                       0\n",
       "Arts and Crafts / Craftsman     0\n",
       "Asian                           0\n",
       "Casual                          0\n",
       "Classical                       0\n",
       "Coastal                         0\n",
       "Colonial / Williamsburg         0\n",
       "Contemporary / Modern           0\n",
       "Country / Cottage               0\n",
       "Crystal                         0\n",
       "Eclectic                        0\n",
       "Kids Lighting                   0\n",
       "Lodge / Rustic / Cabin          0\n",
       "Marine / Nautical               0\n",
       "Mission / Mackintosh            0\n",
       "Old World                       0\n",
       "Organic                         0\n",
       "Schoolhouse                     0\n",
       "Tiffany                         0\n",
       "Traditional                     0\n",
       "Transitional                    0\n",
       "Tropical                        0\n",
       "Victorian                       0\n",
       "Vintage / Retro / Industrial    0\n",
       "Id                              0\n",
       "dtype: int64"
      ]
     },
     "execution_count": 4,
     "metadata": {},
     "output_type": "execute_result"
    }
   ],
   "source": [
    "one_hot1=pd.get_dummies(labels_df['Style1'])\n",
    "one_hot2=pd.get_dummies(labels_df['Style2'])\n",
    "one_hot3=pd.get_dummies(labels_df['Style3'])\n",
    "Style_labels=one_hot1+one_hot2+one_hot3\n",
    "Style_labels['Id']=labels_df['ProductID']\n",
    "Style_labels.isnull().sum()"
   ]
  },
  {
   "cell_type": "code",
   "execution_count": 22,
   "metadata": {},
   "outputs": [
    {
     "name": "stdout",
     "output_type": "stream",
     "text": [
      "[Errno 2] No such file or directory: 'E:\\\\ml_150x150\\\\P1017767.jpg'\n",
      "[Errno 2] No such file or directory: 'E:\\\\ml_150x150\\\\P1239025.jpg'\n",
      "[Errno 2] No such file or directory: 'E:\\\\ml_150x150\\\\P252805.jpg'\n",
      "[Errno 2] No such file or directory: 'E:\\\\ml_150x150\\\\P702584.jpg'\n",
      "[Errno 2] No such file or directory: 'E:\\\\ml_150x150\\\\P702586.jpg'\n",
      "[Errno 2] No such file or directory: 'E:\\\\ml_150x150\\\\P867134.jpg'\n"
     ]
    }
   ],
   "source": [
    " def image2np_array( filename ) :\n",
    "    img = Image.open( filename )\n",
    "    img.load()\n",
    "    data = np.asarray( img.getdata(), dtype='uint8' )\n",
    "    return data\n",
    "x_train_list=[]\n",
    "y_train_list=[]\n",
    "\n",
    "Style_labels['sum'] = Style_labels.sum(axis=1)\n",
    "\n",
    "\n",
    "for row in Style_labels.itertuples():\n",
    "    if (row[27]!=0):\n",
    "        try:\n",
    "            img = image2np_array('E:\\\\ml_150x150\\\\'+row[26]+'.jpg').reshape(150,150,3)\n",
    "        except (IOError, ValueError) as e:\n",
    "            print('{0}'.format(e))\n",
    "            continue\n",
    "        x_train_list.append(img)\n",
    "        y_train_list.append(Style_labels.loc[row[0],:'Vintage / Retro / Industrial'].values)"
   ]
  },
  {
   "cell_type": "code",
   "execution_count": 37,
   "metadata": {},
   "outputs": [
    {
     "data": {
      "text/plain": [
       "(33331, 150, 150, 3)"
      ]
     },
     "execution_count": 37,
     "metadata": {},
     "output_type": "execute_result"
    }
   ],
   "source": [
    "x_train=np.array(x_train_list)\n",
    "y_train=np.array(y_train_list)\n",
    "x_train.shape"
   ]
  },
  {
   "cell_type": "code",
   "execution_count": 1,
   "metadata": {},
   "outputs": [
    {
     "ename": "NameError",
     "evalue": "name 'x_train' is not defined",
     "output_type": "error",
     "traceback": [
      "\u001b[1;31m---------------------------------------------------------------------------\u001b[0m",
      "\u001b[1;31mNameError\u001b[0m                                 Traceback (most recent call last)",
      "\u001b[1;32m<ipython-input-1-3cd7dc11c340>\u001b[0m in \u001b[0;36m<module>\u001b[1;34m()\u001b[0m\n\u001b[1;32m----> 1\u001b[1;33m \u001b[0mx_validation\u001b[0m\u001b[1;33m=\u001b[0m\u001b[0mx_train\u001b[0m\u001b[1;33m[\u001b[0m\u001b[1;36m25000\u001b[0m\u001b[1;33m:\u001b[0m\u001b[1;33m]\u001b[0m\u001b[1;33m\u001b[0m\u001b[0m\n\u001b[0m\u001b[0;32m      2\u001b[0m \u001b[0my_validation\u001b[0m\u001b[1;33m=\u001b[0m\u001b[0my_train\u001b[0m\u001b[1;33m[\u001b[0m\u001b[1;36m25000\u001b[0m\u001b[1;33m:\u001b[0m\u001b[1;33m]\u001b[0m\u001b[1;33m\u001b[0m\u001b[0m\n\u001b[0;32m      3\u001b[0m \u001b[0mx_train\u001b[0m\u001b[1;33m=\u001b[0m\u001b[0mx_train\u001b[0m\u001b[1;33m[\u001b[0m\u001b[1;33m:\u001b[0m\u001b[1;36m25000\u001b[0m\u001b[1;33m]\u001b[0m\u001b[1;33m\u001b[0m\u001b[0m\n\u001b[0;32m      4\u001b[0m \u001b[0my_train\u001b[0m\u001b[1;33m=\u001b[0m\u001b[0my_train\u001b[0m\u001b[1;33m[\u001b[0m\u001b[1;33m:\u001b[0m\u001b[1;36m25000\u001b[0m\u001b[1;33m]\u001b[0m\u001b[1;33m\u001b[0m\u001b[0m\n",
      "\u001b[1;31mNameError\u001b[0m: name 'x_train' is not defined"
     ]
    }
   ],
   "source": [
    "x_validation=x_train[25000:]\n",
    "y_validation=y_train[25000:]\n",
    "x_train=x_train[:25000]\n",
    "y_train=y_train[:25000]"
   ]
  },
  {
   "cell_type": "code",
   "execution_count": 42,
   "metadata": {},
   "outputs": [],
   "source": [
    "epochs = 30\n",
    "batch_size = 32\n",
    "\n",
    "input_shape = (150, 150, 3)\n",
    "\n",
    "model = Sequential()\n",
    "model.add(Conv2D(32, (3, 3), input_shape=input_shape))\n",
    "model.add(Activation('relu'))\n",
    "model.add(MaxPooling2D(pool_size=(2, 2)))\n",
    "\n",
    "model.add(Conv2D(32, (3, 3)))\n",
    "model.add(Activation('relu'))\n",
    "model.add(MaxPooling2D(pool_size=(2, 2)))\n",
    "\n",
    "model.add(Conv2D(64, (3, 3)))\n",
    "model.add(Activation('relu'))\n",
    "model.add(MaxPooling2D(pool_size=(2, 2)))\n",
    "\n",
    "model.add(Flatten())\n",
    "model.add(Dense(120))\n",
    "model.add(Activation('relu'))\n",
    "model.add(Dropout(0.5,seed=seed))\n",
    "model.add(Dense(25))\n",
    "model.add(Activation('sigmoid'))\n",
    "\n",
    "#sgd = SGD(lr=0.01, decay=1e-6, momentum=0.9, nesterov=True)\n",
    "model.compile(loss='binary_crossentropy',\n",
    "              optimizer='Adam',\n",
    "metrics=['accuracy'])"
   ]
  },
  {
   "cell_type": "code",
   "execution_count": null,
   "metadata": {},
   "outputs": [
    {
     "name": "stdout",
     "output_type": "stream",
     "text": [
      "Epoch 1/30\n"
     ]
    }
   ],
   "source": [
    "train_datagen = ImageDataGenerator(\n",
    "    rescale=1. / 255,\n",
    "    zoom_range=0.2,\n",
    "    horizontal_flip=True)\n",
    "\n",
    "model.fit_generator(train_datagen.flow(x_train, y_train, batch_size=batch_size),\n",
    "                    validation_data=(x_validation,y_validation),\n",
    "                    steps_per_epoch=len(x_train) / batch_size, epochs=epochs)\n"
   ]
  },
  {
   "cell_type": "code",
   "execution_count": null,
   "metadata": {
    "collapsed": true
   },
   "outputs": [],
   "source": [
    "model.save('style_classifier.h5')"
   ]
  }
 ],
 "metadata": {
  "kernelspec": {
   "display_name": "Python 3",
   "language": "python",
   "name": "python3"
  },
  "language_info": {
   "codemirror_mode": {
    "name": "ipython",
    "version": 3
   },
   "file_extension": ".py",
   "mimetype": "text/x-python",
   "name": "python",
   "nbconvert_exporter": "python",
   "pygments_lexer": "ipython3",
   "version": "3.5.3"
  }
 },
 "nbformat": 4,
 "nbformat_minor": 2
}
