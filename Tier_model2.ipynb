{
 "cells": [
  {
   "cell_type": "code",
   "execution_count": 12,
   "metadata": {},
   "outputs": [],
   "source": [
    "from PIL import Image\n",
    "import pandas as pd\n",
    "import numpy as np\n",
    "import matplotlib.pyplot as plt\n",
    "\n",
    "seed=3\n",
    "np.random.seed(seed)\n",
    "from keras.preprocessing.image import ImageDataGenerator\n",
    "from keras.models import Sequential, Model\n",
    "from keras.layers import Conv2D, MaxPooling2D\n",
    "from keras.layers import Activation, Dropout, Flatten, Dense, Input, concatenate"
   ]
  },
  {
   "cell_type": "code",
   "execution_count": 2,
   "metadata": {
    "collapsed": true
   },
   "outputs": [],
   "source": [
    "labels_df = pd.read_csv('product_attributes_updated.csv', encoding='utf-8', \n",
    "                    dialect='excel', lineterminator='\\n')"
   ]
  },
  {
   "cell_type": "code",
   "execution_count": 3,
   "metadata": {},
   "outputs": [
    {
     "data": {
      "image/png": "[encoded data removed]",
      "text/plain": [
       "<matplotlib.figure.Figure at 0x1a38e6eda58>"
      ]
     },
     "metadata": {},
     "output_type": "display_data"
    }
   ],
   "source": [
    "for ColumnName in ['Tier']:\n",
    "    labels_df[ColumnName].value_counts().plot(kind=\"bar\")\n",
    "    plt.show()"
   ]
  },
  {
   "cell_type": "code",
   "execution_count": 4,
   "metadata": {
    "collapsed": true
   },
   "outputs": [],
   "source": [
    " def image2np_array( infilename ) :\n",
    "    img = Image.open( infilename )\n",
    "    img.load()\n",
    "    data = np.asarray( img, dtype=\"int32\" )\n",
    "    return data\n",
    "\n",
    "x_train_list=[]\n",
    "y_train_list=[]\n",
    "\n",
    "one_hot=pd.get_dummies(labels_df['Tier'])\n",
    "\n",
    "for row in labels_df.itertuples():\n",
    "    if pd.notnull(row[17]):\n",
    "        try:\n",
    "            img = image2np_array('..\\\\ml_150x150_m\\\\'+row[1]+'.jpg').reshape(150,150,1)\n",
    "        except IOError:\n",
    "            continue\n",
    "        x_train_list.append(img)\n",
    "        y_train_list.append(one_hot.loc[row[0],:].values)"
   ]
  },
  {
   "cell_type": "code",
   "execution_count": 5,
   "metadata": {
    "collapsed": true
   },
   "outputs": [],
   "source": [
    "x_train=np.array(x_train_list)\n",
    "y_train=np.array(y_train_list)"
   ]
  },
  {
   "cell_type": "code",
   "execution_count": 14,
   "metadata": {
    "collapsed": true
   },
   "outputs": [
    {
     "name": "stdout",
     "output_type": "stream",
     "text": [
      "____________________________________________________________________________________________________\n",
      "Layer (type)                     Output Shape          Param #     Connected to                     \n",
      "====================================================================================================\n",
      "input_4 (InputLayer)             (None, 150, 150, 1)   0                                            \n",
      "____________________________________________________________________________________________________\n",
      "conv2d_34 (Conv2D)               (None, 146, 146, 32)  832         input_4[0][0]                    \n",
      "____________________________________________________________________________________________________\n",
      "conv2d_35 (Conv2D)               (None, 142, 142, 32)  25632       conv2d_34[0][0]                  \n",
      "____________________________________________________________________________________________________\n",
      "max_pooling2d_13 (MaxPooling2D)  (None, 71, 71, 32)    0           conv2d_35[0][0]                  \n",
      "____________________________________________________________________________________________________\n",
      "conv2d_36 (Conv2D)               (None, 67, 67, 32)    25632       max_pooling2d_13[0][0]           \n",
      "____________________________________________________________________________________________________\n",
      "conv2d_37 (Conv2D)               (None, 63, 63, 32)    25632       conv2d_36[0][0]                  \n",
      "____________________________________________________________________________________________________\n",
      "max_pooling2d_14 (MaxPooling2D)  (None, 32, 32, 32)    0           conv2d_37[0][0]                  \n",
      "____________________________________________________________________________________________________\n",
      "conv2d_38 (Conv2D)               (None, 28, 28, 32)    25632       max_pooling2d_14[0][0]           \n",
      "____________________________________________________________________________________________________\n",
      "conv2d_39 (Conv2D)               (None, 24, 24, 32)    25632       conv2d_38[0][0]                  \n",
      "____________________________________________________________________________________________________\n",
      "max_pooling2d_15 (MaxPooling2D)  (None, 12, 12, 32)    0           conv2d_39[0][0]                  \n",
      "____________________________________________________________________________________________________\n",
      "conv2d_40 (Conv2D)               (None, 12, 12, 32)    1056        max_pooling2d_15[0][0]           \n",
      "____________________________________________________________________________________________________\n",
      "conv2d_42 (Conv2D)               (None, 12, 12, 32)    1056        max_pooling2d_15[0][0]           \n",
      "____________________________________________________________________________________________________\n",
      "max_pooling2d_16 (MaxPooling2D)  (None, 12, 12, 32)    0           max_pooling2d_15[0][0]           \n",
      "____________________________________________________________________________________________________\n",
      "conv2d_41 (Conv2D)               (None, 12, 12, 32)    9248        conv2d_40[0][0]                  \n",
      "____________________________________________________________________________________________________\n",
      "conv2d_43 (Conv2D)               (None, 12, 12, 32)    25632       conv2d_42[0][0]                  \n",
      "____________________________________________________________________________________________________\n",
      "conv2d_44 (Conv2D)               (None, 12, 12, 32)    1056        max_pooling2d_16[0][0]           \n",
      "____________________________________________________________________________________________________\n",
      "concatenate_3 (Concatenate)      (None, 36, 12, 32)    0           conv2d_41[0][0]                  \n",
      "                                                                   conv2d_43[0][0]                  \n",
      "                                                                   conv2d_44[0][0]                  \n",
      "____________________________________________________________________________________________________\n",
      "flatten_3 (Flatten)              (None, 13824)         0           concatenate_3[0][0]              \n",
      "____________________________________________________________________________________________________\n",
      "dense_7 (Dense)                  (None, 64)            884800      flatten_3[0][0]                  \n",
      "____________________________________________________________________________________________________\n",
      "dense_8 (Dense)                  (None, 64)            4160        dense_7[0][0]                    \n",
      "____________________________________________________________________________________________________\n",
      "dense_9 (Dense)                  (None, 4)             260         dense_8[0][0]                    \n",
      "====================================================================================================\n",
      "Total params: 1,056,260\n",
      "Trainable params: 1,056,260\n",
      "Non-trainable params: 0\n",
      "____________________________________________________________________________________________________\n"
     ]
    }
   ],
   "source": [
    "epochs = 5\n",
    "batch_size = 32\n",
    "\n",
    "input_img = Input(shape=(150, 150, 1))\n",
    "\n",
    "\n",
    "x=Conv2D(32,(5,5), activation='relu')(input_img)\n",
    "x=Conv2D(32,(5,5), activation='relu')(x)\n",
    "x=MaxPooling2D((4, 4), strides=(2, 2), padding='same')(x)\n",
    "\n",
    "x=Conv2D(32,(5,5), activation='relu')(x)\n",
    "x=Conv2D(32,(5,5), activation='relu')(x)\n",
    "x=MaxPooling2D((4, 4), strides=(2, 2), padding='same')(x)\n",
    "\n",
    "x=Conv2D(32,(5,5), activation='relu')(x)\n",
    "x=Conv2D(32,(5,5), activation='relu')(x)\n",
    "x=MaxPooling2D((4, 4), strides=(2, 2), padding='same')(x)\n",
    "\n",
    "tower_1 = Conv2D(32, (1, 1), padding='same', activation='relu')(x)\n",
    "tower_1 = Conv2D(32, (3, 3), padding='same', activation='relu')(tower_1)\n",
    "\n",
    "tower_2 = Conv2D(32, (1, 1), padding='same', activation='relu')(x)\n",
    "tower_2 = Conv2D(32, (5, 5), padding='same', activation='relu')(tower_2)\n",
    "\n",
    "tower_3 = MaxPooling2D((3, 3), strides=(1, 1), padding='same')(x)\n",
    "tower_3 = Conv2D(32, (1, 1), padding='same', activation='relu')(tower_3)\n",
    "\n",
    "aux_output1 = concatenate([tower_1, tower_2, tower_3], axis=1)\n",
    "\n",
    "features=Flatten()(aux_output1)\n",
    "\n",
    "x = Dense(64, activation='relu')(features)\n",
    "x = Dense(64, activation='relu')(x)\n",
    "output3=Dense(4, activation='softmax')(x)\n",
    " \n",
    "end_model = Model(inputs=input_img, outputs=output3)\n",
    "end_model.compile(loss='categorical_crossentropy',\n",
    "              optimizer='adam',\n",
    "              metrics=['accuracy'])\n",
    "end_model.summary()"
   ]
  },
  {
   "cell_type": "code",
   "execution_count": 15,
   "metadata": {},
   "outputs": [
    {
     "name": "stdout",
     "output_type": "stream",
     "text": [
      "Train on 3053 samples, validate on 764 samples\n",
      "Epoch 1/5\n",
      "3053/3053 [==============================] - 14s - loss: 2.1653 - acc: 0.8592 - val_loss: 0.7384 - val_acc: 0.9542\n",
      "Epoch 2/5\n",
      "3053/3053 [==============================] - 10s - loss: 2.1329 - acc: 0.8677 - val_loss: 0.7384 - val_acc: 0.9542\n",
      "Epoch 3/5\n",
      "3053/3053 [==============================] - 10s - loss: 2.1329 - acc: 0.8677 - val_loss: 0.7384 - val_acc: 0.9542\n",
      "Epoch 4/5\n",
      "3053/3053 [==============================] - 10s - loss: 2.1329 - acc: 0.8677 - val_loss: 0.7384 - val_acc: 0.9542\n",
      "Epoch 5/5\n",
      "3053/3053 [==============================] - 10s - loss: 2.1329 - acc: 0.8677 - val_loss: 0.7384 - val_acc: 0.9542\n"
     ]
    },
    {
     "data": {
      "text/plain": [
       "<keras.callbacks.History at 0x1a3b9c0e5c0>"
      ]
     },
     "execution_count": 15,
     "metadata": {},
     "output_type": "execute_result"
    }
   ],
   "source": [
    "end_model.fit(x_train, y_train, epochs=epochs, batch_size=batch_size, validation_split=0.2)"
   ]
  },
  {
   "cell_type": "code",
   "execution_count": 16,
   "metadata": {
    "collapsed": true
   },
   "outputs": [],
   "source": [
    "end_model.save('Tier_classifier.h5')"
   ]
  }
 ],
 "metadata": {
  "kernelspec": {
   "display_name": "Python 3",
   "language": "python",
   "name": "python3"
  },
  "language_info": {
   "codemirror_mode": {
    "name": "ipython",
    "version": 3
   },
   "file_extension": ".py",
   "mimetype": "text/x-python",
   "name": "python",
   "nbconvert_exporter": "python",
   "pygments_lexer": "ipython3",
   "version": "3.5.3"
  }
 },
 "nbformat": 4,
 "nbformat_minor": 1
}
