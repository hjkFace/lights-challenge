{
 "cells": [
  {
   "cell_type": "code",
   "execution_count": 2,
   "metadata": {},
   "outputs": [
    {
     "name": "stderr",
     "output_type": "stream",
     "text": [
      "Using TensorFlow backend.\n"
     ]
    }
   ],
   "source": [
    "from PIL import Image\n",
    "import pandas as pd\n",
    "import numpy as np\n",
    "import matplotlib.pyplot as plt\n",
    "\n",
    "seed=3\n",
    "np.random.seed(seed)\n",
    "\n",
    "from keras.layers import Input, Dense\n",
    "from keras.models import Model\n",
    "\n",
    "from keras.models import Sequential\n",
    "from keras.layers import Conv2D, MaxPooling2D\n",
    "from keras.layers import Activation, Dropout, Flatten, Concatenate, concatenate\n",
    "from keras.utils import to_categorical"
   ]
  },
  {
   "cell_type": "code",
   "execution_count": 3,
   "metadata": {
    "collapsed": true
   },
   "outputs": [],
   "source": [
    "labels_df = pd.read_csv('product_attributes_updated.csv', encoding='utf-8', \n",
    "                    dialect='excel', lineterminator='\\n')"
   ]
  },
  {
   "cell_type": "code",
   "execution_count": 4,
   "metadata": {},
   "outputs": [
    {
     "data": {
      "image/png": "[encoded data removed]",
      "text/plain": [
       "<matplotlib.figure.Figure at 0x2995f5bd710>"
      ]
     },
     "metadata": {},
     "output_type": "display_data"
    }
   ],
   "source": [
    "def delete_rare_records(treshold,column_name):\n",
    "    global labels_df\n",
    "    e = labels_df[column_name].value_counts()\n",
    "    return labels_df[labels_df[column_name].isin(e[e>treshold].index)]\n",
    "cleaned_labels_df=delete_rare_records(treshold=200,column_name='Treatment')\n",
    "cleaned_labels_df['Treatment'].value_counts().plot(kind=\"bar\")\n",
    "plt.show()"
   ]
  },
  {
   "cell_type": "code",
   "execution_count": 5,
   "metadata": {},
   "outputs": [
    {
     "data": {
      "image/png": "[encoded data removed]",
      "text/plain": [
       "<matplotlib.figure.Figure at 0x2995ec9f0b8>"
      ]
     },
     "metadata": {},
     "output_type": "display_data"
    }
   ],
   "source": [
    "labels_df['Treatment'].value_counts().plot(kind=\"bar\")\n",
    "plt.show()"
   ]
  },
  {
   "cell_type": "code",
   "execution_count": 6,
   "metadata": {},
   "outputs": [
    {
     "data": {
      "text/plain": [
       "34336"
      ]
     },
     "execution_count": 6,
     "metadata": {},
     "output_type": "execute_result"
    }
   ],
   "source": [
    "len(labels_df)"
   ]
  },
  {
   "cell_type": "code",
   "execution_count": 7,
   "metadata": {
    "scrolled": false
   },
   "outputs": [
    {
     "data": {
      "text/plain": [
       "16668"
      ]
     },
     "execution_count": 7,
     "metadata": {},
     "output_type": "execute_result"
    }
   ],
   "source": [
    "len(cleaned_labels_df)"
   ]
  },
  {
   "cell_type": "code",
   "execution_count": 8,
   "metadata": {},
   "outputs": [
    {
     "data": {
      "text/plain": [
       "True"
      ]
     },
     "execution_count": 8,
     "metadata": {},
     "output_type": "execute_result"
    }
   ],
   "source": [
    "key_words=['Bronze','Brown','Satin','Polished','Brushed','Antique','Oil','Matte','Patina','Textured','Wall','Sconce','Lamp','Nickel']\n",
    "dummy=[0]*(len(key_words))\n",
    "len(dummy)==len(key_words)"
   ]
  },
  {
   "cell_type": "code",
   "execution_count": 9,
   "metadata": {},
   "outputs": [],
   "source": [
    " def image2np_array( infilename ) :\n",
    "    img = Image.open( infilename )\n",
    "    img.load()\n",
    "    data = np.asarray( img, dtype=\"int32\" )\n",
    "    return data\n",
    "\n",
    "x_train_list=[]\n",
    "y_train_list=[]\n",
    "\n",
    "found_key_words=[]\n",
    "\n",
    "one_hot=pd.get_dummies(cleaned_labels_df['Treatment'])\n",
    "\n",
    "for row in cleaned_labels_df.itertuples():\n",
    "    if pd.notnull(row[10]):\n",
    "        try:\n",
    "            img = image2np_array('..\\\\ml_150x150\\\\'+row[1]+'.jpg').reshape(150,150,3)\n",
    "        except IOError:\n",
    "            continue\n",
    "        dummy=[0]*(len(key_words))\n",
    "        for x in key_words:\n",
    "            if x in row[8].split(): \n",
    "                dummy[key_words.index(x)]=1\n",
    "        found_key_words.append(dummy)\n",
    "        x_train_list.append(img)\n",
    "        y_train_list.append(one_hot.loc[row[0],:].values)"
   ]
  },
  {
   "cell_type": "code",
   "execution_count": 9,
   "metadata": {
    "collapsed": true
   },
   "outputs": [],
   "source": [
    "x_train=np.array(x_train_list)\n",
    "found_key_words=np.array(found_key_words)\n",
    "y_train=np.array(y_train_list)"
   ]
  },
  {
   "cell_type": "code",
   "execution_count": 10,
   "metadata": {},
   "outputs": [
    {
     "data": {
      "text/plain": [
       "(16663, 8)"
      ]
     },
     "execution_count": 10,
     "metadata": {},
     "output_type": "execute_result"
    }
   ],
   "source": [
    "y_train.shape"
   ]
  },
  {
   "cell_type": "code",
   "execution_count": 15,
   "metadata": {
    "collapsed": true
   },
   "outputs": [
    {
     "name": "stdout",
     "output_type": "stream",
     "text": [
      "____________________________________________________________________________________________________\n",
      "Layer (type)                     Output Shape          Param #     Connected to                     \n",
      "====================================================================================================\n",
      "input_5 (InputLayer)             (None, 150, 150, 3)   0                                            \n",
      "____________________________________________________________________________________________________\n",
      "conv2d_23 (Conv2D)               (None, 146, 146, 32)  2432        input_5[0][0]                    \n",
      "____________________________________________________________________________________________________\n",
      "conv2d_24 (Conv2D)               (None, 142, 142, 32)  25632       conv2d_23[0][0]                  \n",
      "____________________________________________________________________________________________________\n",
      "max_pooling2d_9 (MaxPooling2D)   (None, 71, 71, 32)    0           conv2d_24[0][0]                  \n",
      "____________________________________________________________________________________________________\n",
      "conv2d_25 (Conv2D)               (None, 67, 67, 32)    25632       max_pooling2d_9[0][0]            \n",
      "____________________________________________________________________________________________________\n",
      "conv2d_26 (Conv2D)               (None, 63, 63, 32)    25632       conv2d_25[0][0]                  \n",
      "____________________________________________________________________________________________________\n",
      "max_pooling2d_10 (MaxPooling2D)  (None, 32, 32, 32)    0           conv2d_26[0][0]                  \n",
      "____________________________________________________________________________________________________\n",
      "conv2d_27 (Conv2D)               (None, 28, 28, 32)    25632       max_pooling2d_10[0][0]           \n",
      "____________________________________________________________________________________________________\n",
      "conv2d_28 (Conv2D)               (None, 24, 24, 32)    25632       conv2d_27[0][0]                  \n",
      "____________________________________________________________________________________________________\n",
      "max_pooling2d_11 (MaxPooling2D)  (None, 12, 12, 32)    0           conv2d_28[0][0]                  \n",
      "____________________________________________________________________________________________________\n",
      "conv2d_29 (Conv2D)               (None, 12, 12, 32)    1056        max_pooling2d_11[0][0]           \n",
      "____________________________________________________________________________________________________\n",
      "conv2d_31 (Conv2D)               (None, 12, 12, 32)    1056        max_pooling2d_11[0][0]           \n",
      "____________________________________________________________________________________________________\n",
      "max_pooling2d_12 (MaxPooling2D)  (None, 12, 12, 32)    0           max_pooling2d_11[0][0]           \n",
      "____________________________________________________________________________________________________\n",
      "conv2d_30 (Conv2D)               (None, 12, 12, 32)    9248        conv2d_29[0][0]                  \n",
      "____________________________________________________________________________________________________\n",
      "conv2d_32 (Conv2D)               (None, 12, 12, 32)    25632       conv2d_31[0][0]                  \n",
      "____________________________________________________________________________________________________\n",
      "conv2d_33 (Conv2D)               (None, 12, 12, 32)    1056        max_pooling2d_12[0][0]           \n",
      "____________________________________________________________________________________________________\n",
      "concatenate_5 (Concatenate)      (None, 36, 12, 32)    0           conv2d_30[0][0]                  \n",
      "                                                                   conv2d_32[0][0]                  \n",
      "                                                                   conv2d_33[0][0]                  \n",
      "____________________________________________________________________________________________________\n",
      "flatten_3 (Flatten)              (None, 13824)         0           concatenate_5[0][0]              \n",
      "____________________________________________________________________________________________________\n",
      "input_6 (InputLayer)             (None, 14)            0                                            \n",
      "____________________________________________________________________________________________________\n",
      "concatenate_6 (Concatenate)      (None, 13838)         0           flatten_3[0][0]                  \n",
      "                                                                   input_6[0][0]                    \n",
      "____________________________________________________________________________________________________\n",
      "dense_7 (Dense)                  (None, 64)            885696      concatenate_6[0][0]              \n",
      "____________________________________________________________________________________________________\n",
      "dropout_5 (Dropout)              (None, 64)            0           dense_7[0][0]                    \n",
      "____________________________________________________________________________________________________\n",
      "dense_8 (Dense)                  (None, 64)            4160        dropout_5[0][0]                  \n",
      "____________________________________________________________________________________________________\n",
      "dropout_6 (Dropout)              (None, 64)            0           dense_8[0][0]                    \n",
      "____________________________________________________________________________________________________\n",
      "dense_9 (Dense)                  (None, 8)             520         dropout_6[0][0]                  \n",
      "====================================================================================================\n",
      "Total params: 1,059,016\n",
      "Trainable params: 1,059,016\n",
      "Non-trainable params: 0\n",
      "____________________________________________________________________________________________________\n"
     ]
    }
   ],
   "source": [
    "epochs = 5\n",
    "batch_size = 32\n",
    "\n",
    "input_img = Input(shape=(150, 150, 3))\n",
    "\n",
    "\n",
    "x=Conv2D(32,(5,5), activation='relu')(input_img)\n",
    "x=Conv2D(32,(5,5), activation='relu')(x)\n",
    "x=MaxPooling2D((4, 4), strides=(2, 2), padding='same')(x)\n",
    "\n",
    "x=Conv2D(32,(5,5), activation='relu')(x)\n",
    "x=Conv2D(32,(5,5), activation='relu')(x)\n",
    "x=MaxPooling2D((4, 4), strides=(2, 2), padding='same')(x)\n",
    "\n",
    "x=Conv2D(32,(5,5), activation='relu')(x)\n",
    "x=Conv2D(32,(5,5), activation='relu')(x)\n",
    "x=MaxPooling2D((4, 4), strides=(2, 2), padding='same')(x)\n",
    "\n",
    "tower_1 = Conv2D(32, (1, 1), padding='same', activation='relu')(x)\n",
    "tower_1 = Conv2D(32, (3, 3), padding='same', activation='relu')(tower_1)\n",
    "\n",
    "tower_2 = Conv2D(32, (1, 1), padding='same', activation='relu')(x)\n",
    "tower_2 = Conv2D(32, (5, 5), padding='same', activation='relu')(tower_2)\n",
    "\n",
    "tower_3 = MaxPooling2D((3, 3), strides=(1, 1), padding='same')(x)\n",
    "tower_3 = Conv2D(32, (1, 1), padding='same', activation='relu')(tower_3)\n",
    "\n",
    "aux_output1 = concatenate([tower_1, tower_2, tower_3], axis=1)\n",
    "\n",
    "features=Flatten()(aux_output1)\n",
    "\n",
    "extra = Input(shape=(14,))\n",
    "\n",
    "x=concatenate([features, extra], axis=1)\n",
    "x = Dense(64, activation='relu')(x)\n",
    "x = Dropout(.3,seed=seed)(x)\n",
    "x = Dense(64, activation='relu')(x)\n",
    "x = Dropout(.5,seed=seed)(x)\n",
    "output3=Dense(8, activation='softmax')(x)\n",
    " \n",
    "end_model = Model(inputs=[input_img,extra], outputs=output3)\n",
    "end_model.compile(loss='categorical_crossentropy',\n",
    "              optimizer='adam',\n",
    "              metrics=['accuracy'])\n",
    "end_model.summary()"
   ]
  },
  {
   "cell_type": "code",
   "execution_count": 16,
   "metadata": {},
   "outputs": [
    {
     "name": "stdout",
     "output_type": "stream",
     "text": [
      "Train on 13330 samples, validate on 3333 samples\n",
      "Epoch 1/5\n",
      "13330/13330 [==============================] - 53s - loss: 1.6944 - acc: 0.3872 - val_loss: 1.1554 - val_acc: 0.6730\n",
      "Epoch 2/5\n",
      "13330/13330 [==============================] - 53s - loss: 0.9995 - acc: 0.6627 - val_loss: 0.7606 - val_acc: 0.6826\n",
      "Epoch 3/5\n",
      "13330/13330 [==============================] - 52s - loss: 0.8349 - acc: 0.7036 - val_loss: 0.7029 - val_acc: 0.7426\n",
      "Epoch 4/5\n",
      "13330/13330 [==============================] - 52s - loss: 0.7451 - acc: 0.7338 - val_loss: 0.6578 - val_acc: 0.7405\n",
      "Epoch 5/5\n",
      "13330/13330 [==============================] - 52s - loss: 0.7042 - acc: 0.7417 - val_loss: 0.6650 - val_acc: 0.7402\n"
     ]
    },
    {
     "data": {
      "text/plain": [
       "<keras.callbacks.History at 0x200292f1710>"
      ]
     },
     "execution_count": 16,
     "metadata": {},
     "output_type": "execute_result"
    }
   ],
   "source": [
    "end_model.fit([x_train,found_key_words], y_train, epochs=epochs, batch_size=batch_size, validation_split=0.2)"
   ]
  },
  {
   "cell_type": "code",
   "execution_count": null,
   "metadata": {
    "collapsed": true
   },
   "outputs": [],
   "source": [
    "#from keras.utils import plot_model\n",
    "#plot_model(end_model, to_file='model.png',show_shapes=True)"
   ]
  },
  {
   "cell_type": "code",
   "execution_count": 17,
   "metadata": {
    "collapsed": true
   },
   "outputs": [],
   "source": [
    "end_model.save('Treatment_classifier.h5')"
   ]
  }
 ],
 "metadata": {
  "kernelspec": {
   "display_name": "Python 3",
   "language": "python",
   "name": "python3"
  },
  "language_info": {
   "codemirror_mode": {
    "name": "ipython",
    "version": 3
   },
   "file_extension": ".py",
   "mimetype": "text/x-python",
   "name": "python",
   "nbconvert_exporter": "python",
   "pygments_lexer": "ipython3",
   "version": "3.5.3"
  }
 },
 "nbformat": 4,
 "nbformat_minor": 1
}
